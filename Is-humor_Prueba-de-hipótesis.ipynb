{
 "cells": [
  {
   "cell_type": "code",
   "execution_count": null,
   "metadata": {},
   "outputs": [],
   "source": [
    "#https://picanumeros.wordpress.com/2018/08/13/muestras-pareadas-y-muestras-independientes-diferencias-practicas/\n",
    "#https://www.cienciadedatos.net/documentos/pystats11-wilcoxon-mann-whitney-u-test-python"
   ]
  },
  {
   "cell_type": "code",
   "execution_count": 14,
   "metadata": {},
   "outputs": [],
   "source": [
    "import pandas as pd\n",
    "import numpy as np\n",
    "import matplotlib.pyplot as plt\n",
    "import seaborn as sns\n",
    "from scipy import stats\n",
    "import pingouin as pg\n",
    "from pingouin import mwu\n",
    "#from scipy.stats import mannwhitneyu"
   ]
  },
  {
   "cell_type": "code",
   "execution_count": 2,
   "metadata": {},
   "outputs": [],
   "source": [
    "df = pd.read_excel('datos_features.xlsx')"
   ]
  },
  {
   "cell_type": "code",
   "execution_count": 15,
   "metadata": {},
   "outputs": [
    {
     "name": "stderr",
     "output_type": "stream",
     "text": [
      "<ipython-input-15-6b347ca9b4c0>:5: SettingWithCopyWarning: \n",
      "A value is trying to be set on a copy of a slice from a DataFrame.\n",
      "Try using .loc[row_indexer,col_indexer] = value instead\n",
      "\n",
      "See the caveats in the documentation: https://pandas.pydata.org/pandas-docs/stable/user_guide/indexing.html#returning-a-view-versus-a-copy\n",
      "  humor['label'] = 'Humour'\n",
      "<ipython-input-15-6b347ca9b4c0>:6: SettingWithCopyWarning: \n",
      "A value is trying to be set on a copy of a slice from a DataFrame.\n",
      "Try using .loc[row_indexer,col_indexer] = value instead\n",
      "\n",
      "See the caveats in the documentation: https://pandas.pydata.org/pandas-docs/stable/user_guide/indexing.html#returning-a-view-versus-a-copy\n",
      "  no_humor['label'] = 'No humour'\n"
     ]
    }
   ],
   "source": [
    "variable = df['is_humor']\n",
    "\n",
    "humor = df[(df['is_humor'] == 1)]\n",
    "no_humor = df[(df['is_humor'] == 0)]\n",
    "humor['label'] = 'Humour'\n",
    "no_humor['label'] = 'No humour'\n",
    "\n",
    "h = humor.sample(n=3000,random_state=1)\n",
    "nh = no_humor.sample(n=3000,random_state=1)\n",
    "t = pd.concat([h,nh])"
   ]
  },
  {
   "cell_type": "markdown",
   "metadata": {},
   "source": [
    "# Sentimiento STANZA"
   ]
  },
  {
   "cell_type": "code",
   "execution_count": 38,
   "metadata": {},
   "outputs": [
    {
     "data": {
      "text/plain": [
       "0    0\n",
       "1    1\n",
       "2    0\n",
       "3    1\n",
       "4    1\n",
       "Name: sentimiento_stanza, dtype: int64"
      ]
     },
     "execution_count": 38,
     "metadata": {},
     "output_type": "execute_result"
    }
   ],
   "source": [
    "df['sentimiento_stanza'].head()"
   ]
  },
  {
   "cell_type": "code",
   "execution_count": 18,
   "metadata": {},
   "outputs": [
    {
     "name": "stdout",
     "output_type": "stream",
     "text": [
      "Rechazo Ho\n",
      "{9.521586252957801e-48}\n",
      "Homogeneidad \n",
      " None\n"
     ]
    }
   ],
   "source": [
    "j = chisquared(['sentimiento_stanza'],'Homogeneidad')\n",
    "\n",
    "print('Homogeneidad \\n', j)"
   ]
  },
  {
   "cell_type": "markdown",
   "metadata": {},
   "source": [
    "# Polaridad media sentic"
   ]
  },
  {
   "cell_type": "code",
   "execution_count": 66,
   "metadata": {},
   "outputs": [
    {
     "name": "stdout",
     "output_type": "stream",
     "text": [
      "& polaridad_media_sentic  &  2.899073888866965e-05 & 0.0349 & 0.1356 & 0.0725 & 0.128 \\\\\n"
     ]
    }
   ],
   "source": [
    "lista = ['polaridad_media_sentic']\n",
    "estadisticos(lista)"
   ]
  },
  {
   "cell_type": "markdown",
   "metadata": {},
   "source": [
    "# Sentiwordnet score"
   ]
  },
  {
   "cell_type": "code",
   "execution_count": 67,
   "metadata": {},
   "outputs": [
    {
     "name": "stdout",
     "output_type": "stream",
     "text": [
      "& sentiwordnet_score  &  4.55645151797456e-16 & -0.2142 & 0.4431 & -0.0654 & 0.6319 \\\\\n"
     ]
    }
   ],
   "source": [
    "estadisticos(['sentiwordnet_score'])"
   ]
  },
  {
   "cell_type": "markdown",
   "metadata": {},
   "source": [
    "# Textblob\n",
    "polarity_score_textblob, subjectivity_score_textblob, tag_score_textblob"
   ]
  },
  {
   "cell_type": "code",
   "execution_count": 19,
   "metadata": {},
   "outputs": [
    {
     "name": "stdout",
     "output_type": "stream",
     "text": [
      "Rechazo Ho\n",
      "{2.208334291787318e-27}\n"
     ]
    }
   ],
   "source": [
    "j = chisquared(['tag_score_textblob'],'Homogeneidad')\n",
    "j"
   ]
  },
  {
   "cell_type": "code",
   "execution_count": 68,
   "metadata": {},
   "outputs": [
    {
     "name": "stdout",
     "output_type": "stream",
     "text": [
      "& polarity_score_textblob  &  2.9212043494657774e-23 & 0.0448 & 0.0751 & 0.1115 & 0.0695 \\\\\n",
      "& subjectivity_score_textblob  &  3.769481644020236e-05 & 0.3908 & 0.0946 & 0.4206 & 0.0761 \\\\\n"
     ]
    }
   ],
   "source": [
    "lista = ['polarity_score_textblob','subjectivity_score_textblob']\n",
    "estadisticos(lista)"
   ]
  },
  {
   "cell_type": "markdown",
   "metadata": {},
   "source": [
    "# vader_score_sentiment, vader_tag_sentiment"
   ]
  },
  {
   "cell_type": "code",
   "execution_count": 7,
   "metadata": {},
   "outputs": [
    {
     "name": "stdout",
     "output_type": "stream",
     "text": [
      "Rechazo Ho\n",
      "{4.958318278006278e-46}\n"
     ]
    }
   ],
   "source": [
    "#i = chisquared(['vader_tag_sentiment'],'Independencia')\n",
    "j = chisquared(['vader_tag_sentiment'],'Homogeneidad')\n",
    "j"
   ]
  },
  {
   "cell_type": "code",
   "execution_count": 8,
   "metadata": {},
   "outputs": [
    {
     "name": "stdout",
     "output_type": "stream",
     "text": [
      "& vader_score_sentiment_normal  &  2.9111283023928295e-42 & 0.0135 & 0.1989 & 0.1762 & 0.2479 \\\\\n"
     ]
    }
   ],
   "source": [
    "lista = ['vader_score_sentiment']\n",
    "estadisticos(lista)"
   ]
  },
  {
   "cell_type": "markdown",
   "metadata": {},
   "source": [
    "# AFINN\n",
    "afinn_score_tag, afinn_score,afinn_lexicon_score"
   ]
  },
  {
   "cell_type": "code",
   "execution_count": 23,
   "metadata": {},
   "outputs": [
    {
     "name": "stdout",
     "output_type": "stream",
     "text": [
      "Rechazo Ho\n",
      "{3.12027132279446e-33}\n"
     ]
    }
   ],
   "source": [
    "#i = chisquared(['afinn_score_tag'],'Independencia')\n",
    "j = chisquared(['afinn_score_tag'],'Homogeneidad')\n",
    "j"
   ]
  },
  {
   "cell_type": "code",
   "execution_count": 7,
   "metadata": {},
   "outputs": [
    {
     "name": "stdout",
     "output_type": "stream",
     "text": [
      "& afinn_score_Normalized  &  8.571221720785414e-36 & 0.6345 & 0.0047 & 0.6581 & 0.0065 \\\\\n",
      "& afinn_lexicon_score  &  7.611229468257444e-35 & -0.0442 & 2.5624 & 0.4478 & 2.284 \\\\\n"
     ]
    }
   ],
   "source": [
    "lista = ['afinn_score_Normalized','afinn_lexicon_score']\n",
    "estadisticos(lista)"
   ]
  },
  {
   "cell_type": "markdown",
   "metadata": {},
   "source": [
    "# ANEW\n",
    "label_anew, sentiment_anew, arousal_anew, dominance_anew"
   ]
  },
  {
   "cell_type": "code",
   "execution_count": 25,
   "metadata": {},
   "outputs": [
    {
     "name": "stdout",
     "output_type": "stream",
     "text": [
      "Rechazo Ho\n",
      "{1.0995696318932535e-15}\n"
     ]
    }
   ],
   "source": [
    "#i = chisquared(['label_anew'],'Independencia')\n",
    "j = chisquared(['label_anew'],'Homogeneidad')\n",
    "j"
   ]
  },
  {
   "cell_type": "code",
   "execution_count": 71,
   "metadata": {},
   "outputs": [
    {
     "name": "stdout",
     "output_type": "stream",
     "text": [
      "& sentiment_anew  &  1.9135957271072164e-17 & 5.6939 & 0.2508 & 5.7967 & 0.3504 \\\\\n",
      "& dominance_anew  &  1.553553161272202e-23 & 5.5102 & 0.1188 & 5.5899 & 0.1806 \\\\\n",
      "& arousal_anew  &  0.023689305266312632 & 4.1182 & 0.1348 & 4.0981 & 0.1628 \\\\\n"
     ]
    }
   ],
   "source": [
    "lista = ['sentiment_anew','dominance_anew','arousal_anew']\n",
    "estadisticos(lista)"
   ]
  },
  {
   "cell_type": "markdown",
   "metadata": {},
   "source": [
    "# Lexicon-of-abusive-words\n",
    "abusive_scores_binary,abusive_scores"
   ]
  },
  {
   "cell_type": "code",
   "execution_count": 8,
   "metadata": {},
   "outputs": [
    {
     "name": "stdout",
     "output_type": "stream",
     "text": [
      "& abusive_scores_binary  &  0.00010456219421738078 & 0.0013068624664544202 & 7.644905578073718e-05 & 0.0007460817769192915 & 6.0047752158546414e-05 \\\\\n",
      "& abusive_scores  &  5.705368859084933e-17 & -0.4227829080432855 & 0.9145675298695313 & -0.6112456926783459 & 0.7633654754967459 \\\\\n"
     ]
    }
   ],
   "source": [
    "lista = ['abusive_scores_binary','abusive_scores']\n",
    "estadisticos(lista)"
   ]
  },
  {
   "cell_type": "markdown",
   "metadata": {},
   "source": [
    "# Emosenticnet"
   ]
  },
  {
   "cell_type": "code",
   "execution_count": 73,
   "metadata": {},
   "outputs": [
    {
     "name": "stdout",
     "output_type": "stream",
     "text": [
      "& anger_frequency_EmoSenticNet  &  4.64087387798252e-06 & 0.0117 & 0.0007 & 0.0144 & 0.0008 \\\\\n",
      "& fear_frequency_EmoSenticNet  &  0.00019942123788916917 & 0.0116 & 0.0008 & 0.0144 & 0.0009 \\\\\n",
      "& joy_frequency_EmoSenticNet  &  2.2481491104176765e-30 & 0.3125 & 0.013 & 0.3481 & 0.0138 \\\\\n",
      "& sad_frequency_EmoSenticNet  &  2.122147869310886e-05 & 0.0438 & 0.0026 & 0.051 & 0.0034 \\\\\n",
      "& surprise_frequency_EmoSenticNet  &  4.8051577262030194e-21 & 0.0482 & 0.0041 & 0.0297 & 0.0017 \\\\\n"
     ]
    }
   ],
   "source": [
    "lista = ['anger_frequency_EmoSenticNet','fear_frequency_EmoSenticNet', 'joy_frequency_EmoSenticNet',\n",
    "       'sad_frequency_EmoSenticNet','surprise_frequency_EmoSenticNet']\n",
    "estadisticos(lista)"
   ]
  },
  {
   "cell_type": "markdown",
   "metadata": {},
   "source": [
    "# SentiSense"
   ]
  },
  {
   "cell_type": "code",
   "execution_count": 74,
   "metadata": {},
   "outputs": [
    {
     "name": "stdout",
     "output_type": "stream",
     "text": [
      "& anticipation_frequency_SentiSense  &  2.0769694815484188e-15 & 0.0124 & 0.0007 & 0.0184 & 0.0011 \\\\\n",
      "& disgust_frequency_SentiSense  &  0.00028710662246260606 & 0.032 & 0.0018 & 0.0274 & 0.0016 \\\\\n",
      "& joy_frequency_SentiSense  &  0.03159839952397891 & 0.0073 & 0.0004 & 0.0087 & 0.0008 \\\\\n",
      "& like_frequency_SentiSense  &  5.467444607777094e-18 & 0.0261 & 0.0015 & 0.0362 & 0.0025 \\\\\n",
      "& love_frequency_SentiSense  &  1.233118120222646e-13 & 0.0051 & 0.0003 & 0.0096 & 0.0007 \\\\\n",
      "& sadness_frequency_SentiSense  &  0.0011619213840446403 & 0.0045 & 0.0003 & 0.003 & 0.0002 \\\\\n"
     ]
    }
   ],
   "source": [
    "lista = ['anger_frequency_SentiSense','anticipation_frequency_SentiSense','disgust_frequency_SentiSense',\n",
    "'fear_frequency_SentiSense','joy_frequency_SentiSense','like_frequency_SentiSense',\n",
    "'love_frequency_SentiSense','sadness_frequency_SentiSense']\n",
    "\n",
    "estadisticos(lista)"
   ]
  },
  {
   "cell_type": "markdown",
   "metadata": {},
   "source": [
    "# Social and categories groups"
   ]
  },
  {
   "cell_type": "code",
   "execution_count": 76,
   "metadata": {},
   "outputs": [
    {
     "name": "stdout",
     "output_type": "stream",
     "text": [
      "& national_groups  &  7.691467706670097e-15 & 0.0023 & 0.0002 & 0.0003 & 0.0 \\\\\n",
      "& Ethinc  &  2.3975932519212824e-08 & 0.001 & 0.0001 & 0.0001 & 0.0 \\\\\n",
      "& Women  &  0.0071021700605428 & 0.0004 & 0.0 & 0.0 & 0.0 \\\\\n",
      "& Religion  &  2.7220949643950255e-13 & 0.0019 & 0.0001 & 0.0001 & 0.0 \\\\\n",
      "& Non_normative  &  0.0013195996574235428 & 0.0003 & 0.0 & 0.0 & 0.0 \\\\\n"
     ]
    }
   ],
   "source": [
    "lista = [\n",
    "'national_groups',\n",
    "'Age_groups',\n",
    "'Ethinc',\n",
    " 'Professional_and_class_groups',\n",
    " 'Sexual_Categories',\n",
    " 'Women',\n",
    " 'Religion',\n",
    " 'Style_of_life',\n",
    " 'Non_normative'\n",
    "]\n",
    "estadisticos(lista)"
   ]
  },
  {
   "cell_type": "markdown",
   "metadata": {},
   "source": [
    "# POS features"
   ]
  },
  {
   "cell_type": "code",
   "execution_count": 77,
   "metadata": {},
   "outputs": [
    {
     "name": "stdout",
     "output_type": "stream",
     "text": [
      "& pronoun_frequency  &  1.3560567811654798e-30 & 0.0673 & 0.0022 & 0.0547 & 0.0023 \\\\\n",
      "& adverbs_frequency  &  0.0010031451435357482 & 0.0526 & 0.003 & 0.0582 & 0.0036 \\\\\n",
      "& adjective_frequency  &  7.496858103114344e-05 & 0.0901 & 0.0046 & 0.0973 & 0.0052 \\\\\n",
      "& punctuation_symbols_stanza_tagger  &  7.529620454655445e-14 & 0.1119 & 0.0041 & 0.1061 & 0.0068 \\\\\n",
      "& primera_plural_stanza  &  2.6547779840142565e-20 & 0.0022 & 0.0001 & 0.0065 & 0.0005 \\\\\n",
      "& primera_singular_stanza  &  5.948099172790256e-119 & 0.0318 & 0.002 & 0.0111 & 0.001 \\\\\n",
      "& segunda_singular_stanza  &  6.11698001489432e-11 & 0.0008 & 0.0001 & 0.0028 & 0.0002 \\\\\n",
      "& tercera_singular_stanza  &  0.008692239967841076 & 0.0121 & 0.0007 & 0.0112 & 0.0008 \\\\\n"
     ]
    }
   ],
   "source": [
    "# Test de homogeneidad\n",
    "\n",
    "lista = ['noun_frequency',\n",
    " 'pronoun_frequency',\n",
    " 'adverbs_frequency',\n",
    " 'adjective_frequency',\n",
    " 'punctuation_symbols_stanza_tagger',\n",
    " 'primera_plural_stanza',\n",
    " 'segunda_plural_stanza',\n",
    " 'tercera_plural_stanza',\n",
    " 'primera_singular_stanza',\n",
    " 'segunda_singular_stanza',\n",
    " 'tercera_singular_stanza'\n",
    "    ]\n",
    "lista2 = ['noun_frequency',\n",
    " 'pronoun_frequency',\n",
    " 'adverbs_frequency',\n",
    " 'adjective_frequency',\n",
    " 'punctuation_symbols_stanza_tagger',\n",
    " 'primera_plural_stanza',\n",
    "# 'segunda_plural_stanza',\n",
    " 'tercera_plural_stanza',\n",
    " 'primera_singular_stanza',\n",
    " 'segunda_singular_stanza',\n",
    " 'tercera_singular_stanza'\n",
    "    ]\n",
    "\n",
    "estadisticos(lista2)"
   ]
  },
  {
   "cell_type": "code",
   "execution_count": null,
   "metadata": {},
   "outputs": [],
   "source": []
  },
  {
   "cell_type": "markdown",
   "metadata": {},
   "source": [
    "# Hurtlex"
   ]
  },
  {
   "cell_type": "code",
   "execution_count": 5,
   "metadata": {},
   "outputs": [
    {
     "name": "stdout",
     "output_type": "stream",
     "text": [
      "& Hurtlex-negative-stereotypes-ethnic-slurs  &  1.5334769827015134e-22 & 0.00427270632370492 & 0.00032161121590705696 & 0.0006812499091422759 & 3.3935659851079795e-05 \\\\\n",
      "& Hurtlex-physical-disabilities-and-diversity  &  8.200947414675782e-05 & 0.0025003862877166732 & 0.00014258041346169964 & 0.0015930293762791855 & 0.00017705195515089827 \\\\\n",
      "& Hurtlex-words-social-economic-disadvantage  &  0.0033830030584591484 & 0.0013470471127142562 & 7.975066563074379e-05 & 0.0022893225352226382 & 0.0001638335391162566 \\\\\n",
      "& Hurtlex-plants  &  0.013502688768575992 & 0.0025861894194328036 & 0.00017925679682326515 & 0.0014307133564214626 & 8.418905988690514e-05 \\\\\n",
      "& Hurtlex-animals  &  2.228814619351844e-06 & 0.0038722484298447882 & 0.0002548476279571215 & 0.0020898649357723635 & 0.00013408300511822758 \\\\\n",
      "& Hurtlex-male-genitalia  &  5.626912702427271e-32 & 0.028663058314306173 & 0.0016136928260646762 & 0.017902620760417796 & 0.001133748716016898 \\\\\n",
      "& Hurtlex-female-genitalia  &  1.4057015970218436e-09 & 0.0014469211762784863 & 8.372860203535794e-05 & 0.0004142465568678158 & 2.7451055489370123e-05 \\\\\n",
      "& Hurtlex-felonies-crime-immoral-behavior  &  0.018753135164241867 & 0.0032587591790294245 & 0.00020750601192097225 & 0.00374097029113872 & 0.00024183632321642928 \\\\\n"
     ]
    }
   ],
   "source": [
    "lista =['Hurtlex-negative-stereotypes-ethnic-slurs',\n",
    " 'Hurtlex-professions-and-occupations',\n",
    " 'Hurtlex-physical-disabilities-and-diversity',\n",
    " 'Hurtlex-cognitive disabilities-and-diversity',\n",
    " 'Hurtlex-moral-and-behavioral-defects',\n",
    " 'Hurtlex-words-social-economic-disadvantage',\n",
    " 'Hurtlex-plants',\n",
    " 'Hurtlex-animals',\n",
    " 'Hurtlex-male-genitalia',\n",
    " 'Hurtlex-female-genitalia',\n",
    " 'Hurtlex-potential-negative-connotations',\n",
    " 'Hurtlex-derogatory-words',\n",
    " 'Hurtlex-felonies-crime-immoral-behavior',\n",
    " 'Hurtlex-word-seven-deadly-sins-of-the-Christian-tradition']\n",
    "\n",
    "estadisticos(lista)\n",
    "    \n",
    "l = ['Hurtlex-locations-and-demonyms','Hurtlex-words-prostitution',\n",
    "     'Hurtlex-words-homosexuality']\n"
   ]
  },
  {
   "cell_type": "code",
   "execution_count": 13,
   "metadata": {},
   "outputs": [
    {
     "data": {
      "text/plain": [
       "SpearmanrResult(correlation=-0.039334171659352477, pvalue=0.03121217386218478)"
      ]
     },
     "execution_count": 13,
     "metadata": {},
     "output_type": "execute_result"
    }
   ],
   "source": [
    "stats.spearmanr(h['Hurtlex-negative-stereotypes-ethnic-slurs'],h['PsicoLIWCfamily'])"
   ]
  },
  {
   "cell_type": "markdown",
   "metadata": {},
   "source": [
    "# LIWC"
   ]
  },
  {
   "cell_type": "code",
   "execution_count": 82,
   "metadata": {},
   "outputs": [],
   "source": [
    "cols = []\n",
    "d=list(df.columns)\n",
    "for i in range(len(d)):\n",
    "    if d[i].startswith('PsicoLIWC'):\n",
    "        cols.append(d[i])\n",
    "    else:\n",
    "        i+=1"
   ]
  },
  {
   "cell_type": "code",
   "execution_count": 80,
   "metadata": {
    "scrolled": true
   },
   "outputs": [
    {
     "name": "stdout",
     "output_type": "stream",
     "text": [
      "& PsicoLIWCachieve  &  4.703538223660354e-40 & 0.0168 & 0.001 & 0.0305 & 0.0022 \\\\\n",
      "& PsicoLIWCadverb  &  5.4611801496764367e-05 & 0.0417 & 0.0022 & 0.0386 & 0.0024 \\\\\n",
      "& PsicoLIWCaffect  &  5.034507367899896e-31 & 0.0564 & 0.0037 & 0.0779 & 0.0061 \\\\\n",
      "& PsicoLIWCanger  &  1.1007623587870109e-08 & 0.0114 & 0.0007 & 0.0082 & 0.0007 \\\\\n",
      "& PsicoLIWCanx  &  9.415058568484061e-07 & 0.003 & 0.0002 & 0.0054 & 0.0004 \\\\\n",
      "& PsicoLIWCarticle  &  2.9922946317077092e-36 & 0.0805 & 0.0041 & 0.06 & 0.0033 \\\\\n",
      "& PsicoLIWCassent  &  0.017066571443263266 & 0.0059 & 0.0004 & 0.0054 & 0.0006 \\\\\n",
      "& PsicoLIWCauxverb  &  0.0006662940590939491 & 0.093 & 0.0031 & 0.0903 & 0.0045 \\\\\n",
      "& PsicoLIWCbio  &  0.005176680220390262 & 0.0464 & 0.0034 & 0.0442 & 0.0042 \\\\\n",
      "& PsicoLIWCbody  &  1.3164494735026512e-05 & 0.0164 & 0.0012 & 0.0134 & 0.0011 \\\\\n",
      "& PsicoLIWCcertain  &  2.680187637592461e-14 & 0.0113 & 0.0006 & 0.0182 & 0.0013 \\\\\n",
      "& PsicoLIWCcogmech  &  4.4259208927309723e-41 & 0.1267 & 0.007 & 0.1619 & 0.0101 \\\\\n",
      "& PsicoLIWCconj  &  0.020337961701853445 & 0.0462 & 0.0021 & 0.0494 & 0.0023 \\\\\n",
      "& PsicoLIWCdeath  &  0.00662491810169388 & 0.0057 & 0.0005 & 0.0037 & 0.0003 \\\\\n",
      "& PsicoLIWCfamily  &  6.171945454834586e-38 & 0.0107 & 0.0007 & 0.0039 & 0.0003 \\\\\n",
      "& PsicoLIWCfeel  &  0.00025052385510130124 & 0.007 & 0.0004 & 0.009 & 0.0006 \\\\\n",
      "& PsicoLIWCfriend  &  3.1860949033068715e-11 & 0.0046 & 0.0003 & 0.0024 & 0.0002 \\\\\n",
      "& PsicoLIWCfunct  &  1.231822417115199e-06 & 0.5208 & 0.0099 & 0.5026 & 0.0182 \\\\\n",
      "& PsicoLIWCfuture  &  0.0002843831236517132 & 0.0065 & 0.0003 & 0.0089 & 0.0005 \\\\\n",
      "& PsicoLIWChealth  &  1.5802874150819742e-05 & 0.0124 & 0.0009 & 0.0162 & 0.0013 \\\\\n",
      "& PsicoLIWChear  &  4.418460307219377e-47 & 0.013 & 0.0008 & 0.0053 & 0.0005 \\\\\n",
      "& PsicoLIWChome  &  1.3400645364294844e-11 & 0.0089 & 0.0006 & 0.0049 & 0.0003 \\\\\n",
      "& PsicoLIWChumans  &  1.9624103990259323e-07 & 0.0186 & 0.0011 & 0.0146 & 0.001 \\\\\n",
      "& PsicoLIWCi  &  7.458974037307221e-158 & 0.0587 & 0.0047 & 0.0198 & 0.0022 \\\\\n",
      "& PsicoLIWCincl  &  2.9520267884973383e-12 & 0.0299 & 0.0016 & 0.0386 & 0.0023 \\\\\n",
      "& PsicoLIWCingest  &  1.0776458226584871e-12 & 0.0135 & 0.0011 & 0.0088 & 0.0009 \\\\\n",
      "& PsicoLIWCinhib  &  1.0868310553327839e-13 & 0.005 & 0.0003 & 0.0085 & 0.0006 \\\\\n",
      "& PsicoLIWCinsight  &  8.057882519489454e-30 & 0.0147 & 0.0008 & 0.0251 & 0.0016 \\\\\n",
      "& PsicoLIWCipron  &  0.0010814077849741546 & 0.0506 & 0.0024 & 0.0495 & 0.0032 \\\\\n",
      "& PsicoLIWCleisure  &  2.0426499509935517e-06 & 0.0168 & 0.0012 & 0.0138 & 0.0012 \\\\\n",
      "& PsicoLIWCnonfl  &  0.012262140120236853 & 0.002 & 0.0001 & 0.0012 & 0.0001 \\\\\n",
      "& PsicoLIWCpast  &  2.98188954206561e-34 & 0.0364 & 0.0028 & 0.0201 & 0.0014 \\\\\n",
      "& PsicoLIWCpercept  &  1.8139979617089557e-08 & 0.0364 & 0.0025 & 0.0308 & 0.0024 \\\\\n",
      "& PsicoLIWCposemo  &  1.1877124786729191e-36 & 0.0293 & 0.0019 & 0.0486 & 0.0043 \\\\\n",
      "& PsicoLIWCppron  &  1.2746078715324251e-55 & 0.1162 & 0.0063 & 0.0847 & 0.0063 \\\\\n",
      "& PsicoLIWCpreps  &  3.950125469437513e-32 & 0.0966 & 0.0038 & 0.1175 & 0.0052 \\\\\n",
      "& PsicoLIWCpronoun  &  1.425148945224069e-49 & 0.1669 & 0.0071 & 0.1342 & 0.0097 \\\\\n",
      "& PsicoLIWCquant  &  4.162647383471896e-16 & 0.0222 & 0.0013 & 0.0302 & 0.0018 \\\\\n",
      "& PsicoLIWCrelativ  &  5.069931606945734e-06 & 0.1187 & 0.0078 & 0.1314 & 0.0095 \\\\\n",
      "& PsicoLIWCrelig  &  0.00017540562026954805 & 0.0071 & 0.0008 & 0.0043 & 0.0004 \\\\\n",
      "& PsicoLIWCsad  &  1.2214250742011719e-10 & 0.006 & 0.0004 & 0.0097 & 0.0008 \\\\\n",
      "& PsicoLIWCsexual  &  7.155077542388249e-08 & 0.0114 & 0.0009 & 0.0079 & 0.0007 \\\\\n",
      "& PsicoLIWCshehe  &  6.527918540831879e-41 & 0.0185 & 0.0014 & 0.0098 & 0.0011 \\\\\n",
      "& PsicoLIWCsocial  &  1.1753319055925262e-07 & 0.1357 & 0.0092 & 0.1241 & 0.0094 \\\\\n",
      "& PsicoLIWCswear  &  1.3922554963823169e-25 & 0.005 & 0.0004 & 0.0014 & 0.0001 \\\\\n",
      "& PsicoLIWCtentat  &  8.91223975071156e-10 & 0.0173 & 0.001 & 0.0237 & 0.0016 \\\\\n",
      "& PsicoLIWCthey  &  0.03326804064634681 & 0.0094 & 0.0007 & 0.0072 & 0.0005 \\\\\n",
      "& PsicoLIWCtime  &  0.00047853878790144497 & 0.0501 & 0.0034 & 0.057 & 0.0043 \\\\\n",
      "& PsicoLIWCverb  &  2.086023347008085e-06 & 0.1475 & 0.0046 & 0.1412 & 0.0072 \\\\\n",
      "& PsicoLIWCwe  &  8.070062742996843e-29 & 0.0042 & 0.0003 & 0.0127 & 0.0012 \\\\\n",
      "& PsicoLIWCwork  &  0.0011648498014125886 & 0.0154 & 0.0011 & 0.0182 & 0.0015 \\\\\n",
      "& PsicoLIWCyou  &  1.4022650160887578e-07 & 0.0255 & 0.0018 & 0.0353 & 0.0031 \\\\\n"
     ]
    }
   ],
   "source": [
    "estadisticos(cols)"
   ]
  },
  {
   "cell_type": "code",
   "execution_count": null,
   "metadata": {},
   "outputs": [],
   "source": []
  },
  {
   "cell_type": "code",
   "execution_count": null,
   "metadata": {},
   "outputs": [],
   "source": []
  },
  {
   "cell_type": "code",
   "execution_count": null,
   "metadata": {},
   "outputs": [],
   "source": []
  },
  {
   "cell_type": "code",
   "execution_count": 47,
   "metadata": {
    "scrolled": true
   },
   "outputs": [
    {
     "data": {
      "text/plain": [
       "['id',\n",
       " 'text',\n",
       " 'is_humor',\n",
       " 'humor_rating',\n",
       " 'humor_controversy',\n",
       " 'offense_rating',\n",
       " 'texto_limpio',\n",
       " 'sentimiento_stanza',\n",
       " 'polaridad_media_sentic',\n",
       " 'sentiwordnet_score',\n",
       " 'sentiwordnet_overall_Sentiment',\n",
       " 'afinn_lexicon_score',\n",
       " 'afinn_score',\n",
       " 'afinn_score_tag',\n",
       " 'vader_score_sentiment',\n",
       " 'vader_tag_sentiment',\n",
       " 'polarity_score_textblob',\n",
       " 'tag_score_textblob',\n",
       " 'subjectivity_score_textblob',\n",
       " 'sentiment_anew',\n",
       " 'arousal_anew',\n",
       " 'dominance_anew',\n",
       " 'label_anew',\n",
       " 'abusive_scores',\n",
       " 'abusive_scores_binary',\n",
       " 'anger_frequency_EmoSenticNet',\n",
       " 'disgust_frequency_EmoSenticNet',\n",
       " 'fear_frequency_EmoSenticNet',\n",
       " 'joy_frequency_EmoSenticNet',\n",
       " 'sad_frequency_EmoSenticNet',\n",
       " 'surprise_frequency_EmoSenticNet',\n",
       " 'anger_frequency_SentiSense',\n",
       " 'anticipation_frequency_SentiSense',\n",
       " 'disgust_frequency_SentiSense',\n",
       " 'fear_frequency_SentiSense',\n",
       " 'joy_frequency_SentiSense',\n",
       " 'like_frequency_SentiSense',\n",
       " 'love_frequency_SentiSense',\n",
       " 'sadness_frequency_SentiSense',\n",
       " 'surprise_frequency_SentiSense',\n",
       " 'PsicoLIWCachieve',\n",
       " 'PsicoLIWCadverb',\n",
       " 'PsicoLIWCaffect',\n",
       " 'PsicoLIWCanger',\n",
       " 'PsicoLIWCanx',\n",
       " 'PsicoLIWCarticle',\n",
       " 'PsicoLIWCassent',\n",
       " 'PsicoLIWCauxverb',\n",
       " 'PsicoLIWCbio',\n",
       " 'PsicoLIWCbody',\n",
       " 'PsicoLIWCcause',\n",
       " 'PsicoLIWCcertain',\n",
       " 'PsicoLIWCcogmech',\n",
       " 'PsicoLIWCconj',\n",
       " 'PsicoLIWCdeath',\n",
       " 'PsicoLIWCdiscrep',\n",
       " 'PsicoLIWCexcl',\n",
       " 'PsicoLIWCfamily',\n",
       " 'PsicoLIWCfeel',\n",
       " 'PsicoLIWCfiller',\n",
       " 'PsicoLIWCfriend',\n",
       " 'PsicoLIWCfunct',\n",
       " 'PsicoLIWCfuture',\n",
       " 'PsicoLIWChealth',\n",
       " 'PsicoLIWChear',\n",
       " 'PsicoLIWChome',\n",
       " 'PsicoLIWChumans',\n",
       " 'PsicoLIWCi',\n",
       " 'PsicoLIWCincl',\n",
       " 'PsicoLIWCingest',\n",
       " 'PsicoLIWCinhib',\n",
       " 'PsicoLIWCinsight',\n",
       " 'PsicoLIWCipron',\n",
       " 'PsicoLIWCleisure',\n",
       " 'PsicoLIWCmoney',\n",
       " 'PsicoLIWCmotion',\n",
       " 'PsicoLIWCnegate',\n",
       " 'PsicoLIWCnegemo',\n",
       " 'PsicoLIWCnonfl',\n",
       " 'PsicoLIWCnumber',\n",
       " 'PsicoLIWCpast',\n",
       " 'PsicoLIWCpercept',\n",
       " 'PsicoLIWCposemo',\n",
       " 'PsicoLIWCppron',\n",
       " 'PsicoLIWCpreps',\n",
       " 'PsicoLIWCpresent',\n",
       " 'PsicoLIWCpronoun',\n",
       " 'PsicoLIWCquant',\n",
       " 'PsicoLIWCrelativ',\n",
       " 'PsicoLIWCrelig',\n",
       " 'PsicoLIWCsad',\n",
       " 'PsicoLIWCsee',\n",
       " 'PsicoLIWCsexual',\n",
       " 'PsicoLIWCshehe',\n",
       " 'PsicoLIWCsocial',\n",
       " 'PsicoLIWCspace',\n",
       " 'PsicoLIWCswear',\n",
       " 'PsicoLIWCtentat',\n",
       " 'PsicoLIWCthey',\n",
       " 'PsicoLIWCtime',\n",
       " 'PsicoLIWCverb',\n",
       " 'PsicoLIWCwe',\n",
       " 'PsicoLIWCwork',\n",
       " 'PsicoLIWCyou',\n",
       " 'national_groups',\n",
       " 'Ilness/heath_groups',\n",
       " 'Age_groups',\n",
       " 'Victims',\n",
       " 'Political_group',\n",
       " 'Ethinc',\n",
       " 'Inmigration',\n",
       " 'Professional_and_class_groups',\n",
       " 'Sexual_Categories',\n",
       " 'Women',\n",
       " 'Physical_appearance',\n",
       " 'Religion',\n",
       " 'Style_of_life',\n",
       " 'Non_normative',\n",
       " 'noun_frequency',\n",
       " 'pronoun_frequency',\n",
       " 'adverbs_frequency',\n",
       " 'adjective_frequency',\n",
       " 'punctuation_symbols_stanza_tagger',\n",
       " 'primera_plural_stanza',\n",
       " 'segunda_plural_stanza',\n",
       " 'tercera_plural_stanza',\n",
       " 'primera_singular_stanza',\n",
       " 'segunda_singular_stanza',\n",
       " 'tercera_singular_stanza',\n",
       " 'Hurtlex-negative-stereotypes-ethnic-slurs',\n",
       " 'Hurtlex-locations-and-demonyms',\n",
       " 'Hurtlex-professions-and-occupations',\n",
       " 'Hurtlex-physical-disabilities-and-diversity',\n",
       " 'Hurtlex-cognitive disabilities-and-diversity',\n",
       " 'Hurtlex-moral-and-behavioral-defects',\n",
       " 'Hurtlex-words-social-economic-disadvantage',\n",
       " 'Hurtlex-plants',\n",
       " 'Hurtlex-animals',\n",
       " 'Hurtlex-male-genitalia',\n",
       " 'Hurtlex-female-genitalia',\n",
       " 'Hurtlex-words-prostitution',\n",
       " 'Hurtlex-words-homosexuality',\n",
       " 'Hurtlex-potential-negative-connotations',\n",
       " 'Hurtlex-derogatory-words',\n",
       " 'Hurtlex-felonies-crime-immoral-behavior',\n",
       " 'Hurtlex-word-seven-deadly-sins-of-the-Christian-tradition',\n",
       " 'numeroPals']"
      ]
     },
     "execution_count": 47,
     "metadata": {},
     "output_type": "execute_result"
    }
   ],
   "source": [
    "list(df.columns)"
   ]
  },
  {
   "cell_type": "code",
   "execution_count": 49,
   "metadata": {},
   "outputs": [
    {
     "data": {
      "text/plain": [
       "Text(0.5, 1.0, 'Non Humour')"
      ]
     },
     "execution_count": 49,
     "metadata": {},
     "output_type": "execute_result"
    },
    {
     "data": {
      "image/png": "[encoded data removed]",
      "text/plain": [
       "<Figure size 1800x720 with 2 Axes>"
      ]
     },
     "metadata": {
      "needs_background": "light"
     },
     "output_type": "display_data"
    }
   ],
   "source": [
    "fig, axs = plt.subplots(nrows=1, ncols=2, figsize=(25, 10))\n",
    "\n",
    "sns.kdeplot(data=h, x ='PsicoLIWCi',ax=axs[0]).set_title('Humour')\n",
    "sns.kdeplot(data=nh, x = 'PsicoLIWCi',ax=axs[1]).set_title('Non Humour')"
   ]
  },
  {
   "cell_type": "code",
   "execution_count": 16,
   "metadata": {
    "scrolled": true
   },
   "outputs": [
    {
     "name": "stderr",
     "output_type": "stream",
     "text": [
      "/Users/luciainesmerlo/opt/anaconda3/lib/python3.8/site-packages/seaborn/distributions.py:2551: FutureWarning: `distplot` is a deprecated function and will be removed in a future version. Please adapt your code to use either `displot` (a figure-level function with similar flexibility) or `kdeplot` (an axes-level function for kernel density plots).\n",
      "  warnings.warn(msg, FutureWarning)\n",
      "/Users/luciainesmerlo/opt/anaconda3/lib/python3.8/site-packages/seaborn/distributions.py:2551: FutureWarning: `distplot` is a deprecated function and will be removed in a future version. Please adapt your code to use either `displot` (a figure-level function with similar flexibility) or `kdeplot` (an axes-level function for kernel density plots).\n",
      "  warnings.warn(msg, FutureWarning)\n"
     ]
    },
    {
     "data": {
      "text/plain": [
       "Text(0.5, 1.0, 'I')"
      ]
     },
     "execution_count": 16,
     "metadata": {},
     "output_type": "execute_result"
    },
    {
     "data": {
      "image/png": "[encoded data removed]",
      "text/plain": [
       "<Figure size 432x288 with 1 Axes>"
      ]
     },
     "metadata": {
      "needs_background": "light"
     },
     "output_type": "display_data"
    }
   ],
   "source": [
    "lista = ['Humour', 'No humour']\n",
    "#_, axes = plt.subplots(figsize=(15,10))\n",
    "\n",
    "for l in lista:\n",
    "    \n",
    "    subset = t[t['label'] == l]\n",
    "    x = sns.distplot(subset['PsicoLIWCi'], hist = False, kde = True,\n",
    "                 kde_kws = {'linewidth': 2},\n",
    "                 label = l)\n",
    "    \n",
    "x.legend(prop={'size': 10})\n",
    "x.set(xlabel=None)\n",
    "x.set_title('I')"
   ]
  },
  {
   "cell_type": "code",
   "execution_count": 16,
   "metadata": {},
   "outputs": [
    {
     "name": "stderr",
     "output_type": "stream",
     "text": [
      "/Users/luciainesmerlo/opt/anaconda3/lib/python3.8/site-packages/seaborn/distributions.py:2551: FutureWarning: `distplot` is a deprecated function and will be removed in a future version. Please adapt your code to use either `displot` (a figure-level function with similar flexibility) or `kdeplot` (an axes-level function for kernel density plots).\n",
      "  warnings.warn(msg, FutureWarning)\n",
      "/Users/luciainesmerlo/opt/anaconda3/lib/python3.8/site-packages/seaborn/distributions.py:2551: FutureWarning: `distplot` is a deprecated function and will be removed in a future version. Please adapt your code to use either `displot` (a figure-level function with similar flexibility) or `kdeplot` (an axes-level function for kernel density plots).\n",
      "  warnings.warn(msg, FutureWarning)\n"
     ]
    },
    {
     "data": {
      "text/plain": [
       "Text(0, 0.5, 'Density')"
      ]
     },
     "execution_count": 16,
     "metadata": {},
     "output_type": "execute_result"
    },
    {
     "data": {
      "image/png": "[encoded data removed]",
      "text/plain": [
       "<Figure size 432x288 with 1 Axes>"
      ]
     },
     "metadata": {
      "needs_background": "light"
     },
     "output_type": "display_data"
    }
   ],
   "source": [
    "lista = ['Humour', 'No Humour']\n",
    "\n",
    "for l in lista:\n",
    "    \n",
    "    if l == 'Humour':\n",
    "        sns.distplot(h['PsicoLIWCposemo'], hist = False, kde = True,\n",
    "                 kde_kws = {'linewidth': 2},\n",
    "                 label = 'Humour')\n",
    "    else:\n",
    "        sns.distplot(nh['PsicoLIWCposemo'], hist = False, kde = True,\n",
    "                 kde_kws = {'linewidth': 2},\n",
    "                 label = 'No Humour')\n",
    "    \n",
    "plt.legend(prop={'size': 10})\n",
    "plt.title('Positive Emotions')\n",
    "plt.xlabel('Values')\n",
    "plt.ylabel('Density')"
   ]
  },
  {
   "cell_type": "code",
   "execution_count": 17,
   "metadata": {},
   "outputs": [
    {
     "name": "stderr",
     "output_type": "stream",
     "text": [
      "/Users/luciainesmerlo/opt/anaconda3/lib/python3.8/site-packages/seaborn/distributions.py:2551: FutureWarning: `distplot` is a deprecated function and will be removed in a future version. Please adapt your code to use either `displot` (a figure-level function with similar flexibility) or `kdeplot` (an axes-level function for kernel density plots).\n",
      "  warnings.warn(msg, FutureWarning)\n",
      "/Users/luciainesmerlo/opt/anaconda3/lib/python3.8/site-packages/seaborn/distributions.py:2551: FutureWarning: `distplot` is a deprecated function and will be removed in a future version. Please adapt your code to use either `displot` (a figure-level function with similar flexibility) or `kdeplot` (an axes-level function for kernel density plots).\n",
      "  warnings.warn(msg, FutureWarning)\n"
     ]
    },
    {
     "data": {
      "text/plain": [
       "Text(0, 0.5, 'Density')"
      ]
     },
     "execution_count": 17,
     "metadata": {},
     "output_type": "execute_result"
    },
    {
     "data": {
      "image/png": "[encoded data removed]",
      "text/plain": [
       "<Figure size 432x288 with 1 Axes>"
      ]
     },
     "metadata": {
      "needs_background": "light"
     },
     "output_type": "display_data"
    }
   ],
   "source": [
    "lista = ['Humour', 'No Humour']\n",
    "\n",
    "for l in lista:\n",
    "    \n",
    "    if l == 'Humour':\n",
    "        sns.distplot(h['PsicoLIWCfamily'], hist = False, kde = True,\n",
    "                 kde_kws = {'linewidth': 2},\n",
    "                 label = 'Humour')\n",
    "    else:\n",
    "        sns.distplot(nh['PsicoLIWCfamily'], hist = False, kde = True,\n",
    "                 kde_kws = {'linewidth': 2},\n",
    "                 label = 'No Humour')\n",
    "    \n",
    "plt.legend(prop={'size': 10})\n",
    "plt.title('Family')\n",
    "plt.xlabel('Value')\n",
    "plt.ylabel('Density')"
   ]
  },
  {
   "cell_type": "markdown",
   "metadata": {},
   "source": [
    "#### Funciones"
   ]
  },
  {
   "cell_type": "code",
   "execution_count": 4,
   "metadata": {},
   "outputs": [],
   "source": [
    "def chisquared(lista, method):\n",
    "   # dic = {}\n",
    "    if method == 'Homogeneidad':\n",
    "        variable = t['is_humor']\n",
    "        for i in lista:\n",
    "    \n",
    "            crosstab = pd.crosstab(variable,t[i])\n",
    "            chi2, pvalue, dof, expected = stats.chi2_contingency(crosstab)\n",
    "            \n",
    "            if pvalue<0.05:\n",
    "                print('Rechazo Ho')\n",
    "                if type(i) is int or i in ('0','1','2'):\n",
    "                    print({pvalue},'&',round(h[i].mean(),2),'&', round(h[i].var(),2),'&',\n",
    "                      round(nh[i].mean(),2),'&',round(nh[i].var(),2),'\\\\\\\\') \n",
    "                else:\n",
    "                    print({pvalue})"
   ]
  },
  {
   "cell_type": "code",
   "execution_count": 4,
   "metadata": {},
   "outputs": [],
   "source": [
    "def estadisticos(lista):\n",
    "    alpha = 0.05\n",
    "    for i in lista:\n",
    "        \n",
    "        a1 = np.array(h.loc[:,i])\n",
    "        a2 = np.array(nh.loc[:,i])\n",
    "        corr, pvalue = stats.spearmanr(a1,a2) #veo si las muestras están pareadas\n",
    "        \n",
    "        if pvalue > alpha:\n",
    "            try:\n",
    "                mannwhitney = mwu(h[i], nh[i])\n",
    "                if (mannwhitney['p-val'] < 0.05).all():\n",
    "                    \n",
    "                    print('&', i ,' & ', mannwhitney['p-val'].values[0],'&',\n",
    "                        h[i].mean(),'&', h[i].var(),'&',\n",
    "                          nh[i].mean(),'&',nh[i].var(),'\\\\\\\\')  \n",
    "                    #round(h[i].mean(),4),'&', round(h[i].var(),4),'&',\n",
    "                      #round(nh[i].mean(),4),'&',round(nh[i].var(),4),'\\\\\\\\')\n",
    "            \n",
    "            except ValueError:\n",
    "                i += 1\n",
    "                \n",
    "        else:\n",
    "            try:\n",
    "                wilcoxon = pg.wilcoxon(h[i], nh[i])\n",
    "                if (wilcoxon['p-val'] < 0.05).all():\n",
    "                    \n",
    "                    print('&', i ,' & ', wilcoxon['p-val'].values[0],'&',\n",
    "                      h[i].mean(),'&', h[i].var(),'&',\n",
    "                          nh[i].mean(),'&',nh[i].var(),'\\\\\\\\')  \n",
    "                    #round(h[i].mean(),4),'&', round(h[i].var(),4),'&',\n",
    "                      #round(nh[i].mean(),4),'&',round(nh[i].var(),4),'\\\\\\\\')\n",
    "            except ValueError:\n",
    "                i += 1"
   ]
  },
  {
   "cell_type": "code",
   "execution_count": 6,
   "metadata": {},
   "outputs": [],
   "source": [
    "def names(lista):\n",
    "    alpha = 0.05\n",
    "    for i in lista:\n",
    "        \n",
    "        a1 = np.array(h.loc[:,i])\n",
    "        a2 = np.array(nh.loc[:,i])\n",
    "        corr, pvalue = stats.spearmanr(a1,a2) #veo si las muestras están pareadas\n",
    "        \n",
    "        if pvalue > alpha:\n",
    "            try:\n",
    "                mannwhitney = mwu(h[i], nh[i])\n",
    "                if (mannwhitney['p-val'] < 0.05).all():\n",
    "                    \n",
    "                    print(i)\n",
    "            \n",
    "            except ValueError:\n",
    "                i += 1\n",
    "                \n",
    "        else:\n",
    "            try:\n",
    "                wilcoxon = pg.wilcoxon(h[i], nh[i])\n",
    "                if (wilcoxon['p-val'] < 0.05).all():\n",
    "                    print(i)\n",
    "                    \n",
    "            except ValueError:\n",
    "                i += 1"
   ]
  },
  {
   "cell_type": "code",
   "execution_count": null,
   "metadata": {},
   "outputs": [],
   "source": []
  }
 ],
 "metadata": {
  "kernelspec": {
   "display_name": "Python 3",
   "language": "python",
   "name": "python3"
  },
  "language_info": {
   "codemirror_mode": {
    "name": "ipython",
    "version": 3
   },
   "file_extension": ".py",
   "mimetype": "text/x-python",
   "name": "python",
   "nbconvert_exporter": "python",
   "pygments_lexer": "ipython3",
   "version": "3.8.5"
  }
 },
 "nbformat": 4,
 "nbformat_minor": 4
}
