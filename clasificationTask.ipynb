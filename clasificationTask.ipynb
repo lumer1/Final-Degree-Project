{
  "nbformat": 4,
  "nbformat_minor": 0,
  "metadata": {
    "colab": {
      "name": "clasificationTask.ipynb",
      "provenance": [],
      "collapsed_sections": [],
      "toc_visible": true,
      "authorship_tag": "ABX9TyMS3T9I/vhIiw0rep/8DV7i",
      "include_colab_link": true
    },
    "kernelspec": {
      "name": "python3",
      "display_name": "Python 3"
    },
    "language_info": {
      "name": "python"
    }
  },
  "cells": [
    {
      "cell_type": "markdown",
      "metadata": {
        "id": "view-in-github",
        "colab_type": "text"
      },
      "source": [
        "<a href=\"https://colab.research.google.com/github/lumer1/Final-Degree-Project/blob/main/clasificationTask.ipynb\" target=\"_parent\"><img src=\"https://colab.research.google.com/assets/colab-badge.svg\" alt=\"Open In Colab\"/></a>"
      ]
    },
    {
      "cell_type": "code",
      "execution_count": 1,
      "metadata": {
        "id": "VDvKrJejbROf",
        "colab": {
          "base_uri": "https://localhost:8080/"
        },
        "outputId": "a63ddde1-0eca-4f98-91df-6fb5eed76b4f"
      },
      "outputs": [
        {
          "output_type": "stream",
          "name": "stdout",
          "text": [
            "Mounted at /content/drive\n"
          ]
        }
      ],
      "source": [
        "# Modelos\n",
        "from sklearn.model_selection import train_test_split\n",
        "from sklearn import tree\n",
        "from sklearn.metrics import confusion_matrix\n",
        "from sklearn.metrics import classification_report\n",
        "from sklearn.metrics import accuracy_score\n",
        "from sklearn import svm\n",
        "from sklearn.linear_model import LogisticRegression\n",
        "from sklearn.ensemble import RandomForestClassifier\n",
        "\n",
        "# Métricas\n",
        "from sklearn.model_selection import cross_val_score\n",
        "from sklearn import metrics\n",
        "from sklearn.model_selection import GridSearchCV\n",
        "from sklearn.model_selection import RandomizedSearchCV\n",
        "\n",
        "from sklearn.metrics import f1_score\n",
        "from scipy.stats import spearmanr\n",
        "from sklearn.model_selection import StratifiedKFold\n",
        "\n",
        "import pandas as pd\n",
        "from google.colab import drive\n",
        "drive.mount('/content/drive')\n",
        "import os \n",
        "df = pd.read_excel(\"/content/drive/My Drive/datos_features.xlsx\")"
      ]
    },
    {
      "cell_type": "code",
      "source": [
        "#import os\n",
        "#os.chdir(\"/content/drive/My Drive\")\n",
        "#!ls"
      ],
      "metadata": {
        "id": "gqKv5NuDBP2-"
      },
      "execution_count": null,
      "outputs": []
    },
    {
      "cell_type": "code",
      "source": [
        "#drive.flush_and_unmount()"
      ],
      "metadata": {
        "id": "PAdUy8GH79q0"
      },
      "execution_count": null,
      "outputs": []
    },
    {
      "cell_type": "code",
      "source": [
        "#testDf = pd.read_excel(\"/content/drive/My Drive/testData.xlsx\")"
      ],
      "metadata": {
        "id": "s0fQFNMSbopw"
      },
      "execution_count": null,
      "outputs": []
    },
    {
      "cell_type": "markdown",
      "source": [
        "## Add labels to each quartile in train data"
      ],
      "metadata": {
        "id": "qiGkPBpzBunb"
      }
    },
    {
      "cell_type": "code",
      "source": [
        "humor = df[(df['is_humor'] == 1)]\n",
        "#humor.shape\n",
        "#humor = humor.sample(n=3000,random_state=1)\n",
        "\n",
        "humor['label'] = 'humor'\n",
        "\n",
        "lowOffense = humor.loc[(humor['offense_rating'] <= 0)]\n",
        "\n",
        "highOffense = humor.loc[(humor['offense_rating'] > 1.45)]\n",
        "\n",
        "lowOffense['tag'] = 0 #-1 #1 'low_offense'\n",
        "\n",
        "highOffense['tag'] = 1 #4 #'high_offense'\n",
        "\n",
        "\n",
        "#lowOffense = lowOffense.sample(n=740, random_state=1)\n",
        "#highOffense = highOffense.sample(n=740, random_state=1)\n",
        "\n",
        "t = pd.concat([lowOffense,highOffense])\n",
        "t.shape\n",
        "\n",
        "#highOffense.shape 1210 -> 45.8%\n",
        "#lowOffense.shape 1253 -> 54.2%"
      ],
      "metadata": {
        "id": "xmS1l76zbo2O",
        "colab": {
          "base_uri": "https://localhost:8080/"
        },
        "outputId": "f9008c97-46bb-431e-98d3-a0059eafa925"
      },
      "execution_count": 2,
      "outputs": [
        {
          "output_type": "stream",
          "name": "stderr",
          "text": [
            "/usr/local/lib/python3.7/dist-packages/ipykernel_launcher.py:5: SettingWithCopyWarning: \n",
            "A value is trying to be set on a copy of a slice from a DataFrame.\n",
            "Try using .loc[row_indexer,col_indexer] = value instead\n",
            "\n",
            "See the caveats in the documentation: https://pandas.pydata.org/pandas-docs/stable/user_guide/indexing.html#returning-a-view-versus-a-copy\n",
            "  \"\"\"\n",
            "/usr/local/lib/python3.7/dist-packages/ipykernel_launcher.py:11: SettingWithCopyWarning: \n",
            "A value is trying to be set on a copy of a slice from a DataFrame.\n",
            "Try using .loc[row_indexer,col_indexer] = value instead\n",
            "\n",
            "See the caveats in the documentation: https://pandas.pydata.org/pandas-docs/stable/user_guide/indexing.html#returning-a-view-versus-a-copy\n",
            "  # This is added back by InteractiveShellApp.init_path()\n",
            "/usr/local/lib/python3.7/dist-packages/ipykernel_launcher.py:13: SettingWithCopyWarning: \n",
            "A value is trying to be set on a copy of a slice from a DataFrame.\n",
            "Try using .loc[row_indexer,col_indexer] = value instead\n",
            "\n",
            "See the caveats in the documentation: https://pandas.pydata.org/pandas-docs/stable/user_guide/indexing.html#returning-a-view-versus-a-copy\n",
            "  del sys.path[0]\n"
          ]
        },
        {
          "output_type": "execute_result",
          "data": {
            "text/plain": [
              "(2463, 160)"
            ]
          },
          "metadata": {},
          "execution_count": 2
        }
      ]
    },
    {
      "cell_type": "code",
      "source": [
        "highOffense.shape"
      ],
      "metadata": {
        "colab": {
          "base_uri": "https://localhost:8080/"
        },
        "id": "95QeBc_A0GdW",
        "outputId": "650d757a-65bb-44a0-8756-130db092c0e2"
      },
      "execution_count": null,
      "outputs": [
        {
          "output_type": "execute_result",
          "data": {
            "text/plain": [
              "(1210, 160)"
            ]
          },
          "metadata": {},
          "execution_count": 10
        }
      ]
    },
    {
      "cell_type": "markdown",
      "source": [
        "## Split into train and test"
      ],
      "metadata": {
        "id": "_MzlmVGdG_6Q"
      }
    },
    {
      "cell_type": "code",
      "source": [
        "ListaFeatures = [###content features\n",
        "                 'Hurtlex-negative-stereotypes-ethnic-slurs','PsicoLIWChumans','PsicoLIWCsexual','PsicoLIWCswear',\n",
        "                 'Hurtlex-moral-and-behavioral-defects','PsicoLIWCrelig','PsicoLIWCbio','PsicoLIWCsocial','PsicoLIWCsee',\n",
        "                 'PsicoLIWCexcl','PsicoLIWCquant','PsicoLIWCleisure',\n",
        "                 ###syntactic features\n",
        "                 'PsicoLIWCi','PsicoLIWCppron','PsicoLIWCarticle','adjective_frequency','PsicoLIWCthey','PsicoLIWCpreps',\n",
        "                 'PsicoLIWCauxverb','primera_plural_stanza','adverbs_frequency','noun_frequency',\n",
        "                 #'PsicoLIWCshehe',\n",
        "                 'segunda_singular_stanza',\n",
        "                 ###affective features\n",
        "                 'surprise_frequency_EmoSenticNet','fear_frequency_SentiSense','PsicoLIWCposemo','PsicoLIWCinhib','PsicoLIWCanx',\n",
        "                 'PsicoLIWCaffect','disgust_frequency_SentiSense','PsicoLIWCanger','sadness_frequency_SentiSense',\n",
        "                 'like_frequency_SentiSense','joy_frequency_SentiSense','love_frequency_SentiSense'\n",
        "]"
      ],
      "metadata": {
        "id": "IGZEwXMMiRts"
      },
      "execution_count": 3,
      "outputs": []
    },
    {
      "cell_type": "code",
      "source": [
        "X.iloc[:,[21,22,23,24,25,26,27,28,29,30,31,32,33,34]].describe()"
      ],
      "metadata": {
        "id": "FcaOtnWjiR4R",
        "colab": {
          "base_uri": "https://localhost:8080/",
          "height": 364
        },
        "outputId": "1d0659e6-40e1-43fd-a6d9-89b2bd8cfd97"
      },
      "execution_count": null,
      "outputs": [
        {
          "output_type": "execute_result",
          "data": {
            "text/plain": [
              "       noun_frequency  PsicoLIWCthey  PsicoLIWCverb  \\\n",
              "count     1621.000000    1621.000000    1621.000000   \n",
              "mean         0.243422       0.009822       0.147437   \n",
              "std          0.093836       0.027259       0.066643   \n",
              "min          0.000000       0.000000       0.000000   \n",
              "25%          0.181818       0.000000       0.100000   \n",
              "50%          0.235294       0.000000       0.142857   \n",
              "75%          0.294118       0.000000       0.190476   \n",
              "max          0.800000       0.222222       0.375000   \n",
              "\n",
              "       surprise_frequency_EmoSenticNet  fear_frequency_SentiSense  \\\n",
              "count                      1621.000000                1621.000000   \n",
              "mean                          0.051604                   0.011321   \n",
              "std                           0.066669                   0.028140   \n",
              "min                           0.000000                   0.000000   \n",
              "25%                           0.000000                   0.000000   \n",
              "50%                           0.035714                   0.000000   \n",
              "75%                           0.076923                   0.000000   \n",
              "max                           0.375000                   0.272727   \n",
              "\n",
              "       dominance_anew_Normalized  like_frequency_SentiSense  \\\n",
              "count                1621.000000                1621.000000   \n",
              "mean                    0.765014                   0.025821   \n",
              "std                     0.044435                   0.038644   \n",
              "min                     0.575589                   0.000000   \n",
              "25%                     0.737710                   0.000000   \n",
              "50%                     0.767944                   0.000000   \n",
              "75%                     0.794730                   0.047619   \n",
              "max                     0.943828                   0.272727   \n",
              "\n",
              "       subjectivity_score_textblob  PsicoLIWCanx  PsicoLIWCposemo  \\\n",
              "count                  1621.000000   1621.000000      1621.000000   \n",
              "mean                      0.375273      0.003543         0.026885   \n",
              "std                       0.305347      0.015334         0.041365   \n",
              "min                       0.000000      0.000000         0.000000   \n",
              "25%                       0.000000      0.000000         0.000000   \n",
              "50%                       0.400000      0.000000         0.000000   \n",
              "75%                       0.600000      0.000000         0.047619   \n",
              "max                       1.000000      0.153846         0.300000   \n",
              "\n",
              "       sadness_frequency_SentiSense  disgust_frequency_SentiSense  \\\n",
              "count                   1621.000000                   1621.000000   \n",
              "mean                       0.004014                      0.033858   \n",
              "std                        0.016911                      0.045692   \n",
              "min                        0.000000                      0.000000   \n",
              "25%                        0.000000                      0.000000   \n",
              "50%                        0.000000                      0.000000   \n",
              "75%                        0.000000                      0.058824   \n",
              "max                        0.222222                      0.285714   \n",
              "\n",
              "       PsicoLIWCanger  PsicoLIWCinhib  \n",
              "count     1621.000000     1621.000000  \n",
              "mean         0.010390        0.004700  \n",
              "std          0.026643        0.017716  \n",
              "min          0.000000        0.000000  \n",
              "25%          0.000000        0.000000  \n",
              "50%          0.000000        0.000000  \n",
              "75%          0.000000        0.000000  \n",
              "max          0.200000        0.230769  "
            ],
            "text/html": [
              "\n",
              "  <div id=\"df-91823d90-2dac-4687-80d6-653c08b31a6d\">\n",
              "    <div class=\"colab-df-container\">\n",
              "      <div>\n",
              "<style scoped>\n",
              "    .dataframe tbody tr th:only-of-type {\n",
              "        vertical-align: middle;\n",
              "    }\n",
              "\n",
              "    .dataframe tbody tr th {\n",
              "        vertical-align: top;\n",
              "    }\n",
              "\n",
              "    .dataframe thead th {\n",
              "        text-align: right;\n",
              "    }\n",
              "</style>\n",
              "<table border=\"1\" class=\"dataframe\">\n",
              "  <thead>\n",
              "    <tr style=\"text-align: right;\">\n",
              "      <th></th>\n",
              "      <th>noun_frequency</th>\n",
              "      <th>PsicoLIWCthey</th>\n",
              "      <th>PsicoLIWCverb</th>\n",
              "      <th>surprise_frequency_EmoSenticNet</th>\n",
              "      <th>fear_frequency_SentiSense</th>\n",
              "      <th>dominance_anew_Normalized</th>\n",
              "      <th>like_frequency_SentiSense</th>\n",
              "      <th>subjectivity_score_textblob</th>\n",
              "      <th>PsicoLIWCanx</th>\n",
              "      <th>PsicoLIWCposemo</th>\n",
              "      <th>sadness_frequency_SentiSense</th>\n",
              "      <th>disgust_frequency_SentiSense</th>\n",
              "      <th>PsicoLIWCanger</th>\n",
              "      <th>PsicoLIWCinhib</th>\n",
              "    </tr>\n",
              "  </thead>\n",
              "  <tbody>\n",
              "    <tr>\n",
              "      <th>count</th>\n",
              "      <td>1621.000000</td>\n",
              "      <td>1621.000000</td>\n",
              "      <td>1621.000000</td>\n",
              "      <td>1621.000000</td>\n",
              "      <td>1621.000000</td>\n",
              "      <td>1621.000000</td>\n",
              "      <td>1621.000000</td>\n",
              "      <td>1621.000000</td>\n",
              "      <td>1621.000000</td>\n",
              "      <td>1621.000000</td>\n",
              "      <td>1621.000000</td>\n",
              "      <td>1621.000000</td>\n",
              "      <td>1621.000000</td>\n",
              "      <td>1621.000000</td>\n",
              "    </tr>\n",
              "    <tr>\n",
              "      <th>mean</th>\n",
              "      <td>0.243422</td>\n",
              "      <td>0.009822</td>\n",
              "      <td>0.147437</td>\n",
              "      <td>0.051604</td>\n",
              "      <td>0.011321</td>\n",
              "      <td>0.765014</td>\n",
              "      <td>0.025821</td>\n",
              "      <td>0.375273</td>\n",
              "      <td>0.003543</td>\n",
              "      <td>0.026885</td>\n",
              "      <td>0.004014</td>\n",
              "      <td>0.033858</td>\n",
              "      <td>0.010390</td>\n",
              "      <td>0.004700</td>\n",
              "    </tr>\n",
              "    <tr>\n",
              "      <th>std</th>\n",
              "      <td>0.093836</td>\n",
              "      <td>0.027259</td>\n",
              "      <td>0.066643</td>\n",
              "      <td>0.066669</td>\n",
              "      <td>0.028140</td>\n",
              "      <td>0.044435</td>\n",
              "      <td>0.038644</td>\n",
              "      <td>0.305347</td>\n",
              "      <td>0.015334</td>\n",
              "      <td>0.041365</td>\n",
              "      <td>0.016911</td>\n",
              "      <td>0.045692</td>\n",
              "      <td>0.026643</td>\n",
              "      <td>0.017716</td>\n",
              "    </tr>\n",
              "    <tr>\n",
              "      <th>min</th>\n",
              "      <td>0.000000</td>\n",
              "      <td>0.000000</td>\n",
              "      <td>0.000000</td>\n",
              "      <td>0.000000</td>\n",
              "      <td>0.000000</td>\n",
              "      <td>0.575589</td>\n",
              "      <td>0.000000</td>\n",
              "      <td>0.000000</td>\n",
              "      <td>0.000000</td>\n",
              "      <td>0.000000</td>\n",
              "      <td>0.000000</td>\n",
              "      <td>0.000000</td>\n",
              "      <td>0.000000</td>\n",
              "      <td>0.000000</td>\n",
              "    </tr>\n",
              "    <tr>\n",
              "      <th>25%</th>\n",
              "      <td>0.181818</td>\n",
              "      <td>0.000000</td>\n",
              "      <td>0.100000</td>\n",
              "      <td>0.000000</td>\n",
              "      <td>0.000000</td>\n",
              "      <td>0.737710</td>\n",
              "      <td>0.000000</td>\n",
              "      <td>0.000000</td>\n",
              "      <td>0.000000</td>\n",
              "      <td>0.000000</td>\n",
              "      <td>0.000000</td>\n",
              "      <td>0.000000</td>\n",
              "      <td>0.000000</td>\n",
              "      <td>0.000000</td>\n",
              "    </tr>\n",
              "    <tr>\n",
              "      <th>50%</th>\n",
              "      <td>0.235294</td>\n",
              "      <td>0.000000</td>\n",
              "      <td>0.142857</td>\n",
              "      <td>0.035714</td>\n",
              "      <td>0.000000</td>\n",
              "      <td>0.767944</td>\n",
              "      <td>0.000000</td>\n",
              "      <td>0.400000</td>\n",
              "      <td>0.000000</td>\n",
              "      <td>0.000000</td>\n",
              "      <td>0.000000</td>\n",
              "      <td>0.000000</td>\n",
              "      <td>0.000000</td>\n",
              "      <td>0.000000</td>\n",
              "    </tr>\n",
              "    <tr>\n",
              "      <th>75%</th>\n",
              "      <td>0.294118</td>\n",
              "      <td>0.000000</td>\n",
              "      <td>0.190476</td>\n",
              "      <td>0.076923</td>\n",
              "      <td>0.000000</td>\n",
              "      <td>0.794730</td>\n",
              "      <td>0.047619</td>\n",
              "      <td>0.600000</td>\n",
              "      <td>0.000000</td>\n",
              "      <td>0.047619</td>\n",
              "      <td>0.000000</td>\n",
              "      <td>0.058824</td>\n",
              "      <td>0.000000</td>\n",
              "      <td>0.000000</td>\n",
              "    </tr>\n",
              "    <tr>\n",
              "      <th>max</th>\n",
              "      <td>0.800000</td>\n",
              "      <td>0.222222</td>\n",
              "      <td>0.375000</td>\n",
              "      <td>0.375000</td>\n",
              "      <td>0.272727</td>\n",
              "      <td>0.943828</td>\n",
              "      <td>0.272727</td>\n",
              "      <td>1.000000</td>\n",
              "      <td>0.153846</td>\n",
              "      <td>0.300000</td>\n",
              "      <td>0.222222</td>\n",
              "      <td>0.285714</td>\n",
              "      <td>0.200000</td>\n",
              "      <td>0.230769</td>\n",
              "    </tr>\n",
              "  </tbody>\n",
              "</table>\n",
              "</div>\n",
              "      <button class=\"colab-df-convert\" onclick=\"convertToInteractive('df-91823d90-2dac-4687-80d6-653c08b31a6d')\"\n",
              "              title=\"Convert this dataframe to an interactive table.\"\n",
              "              style=\"display:none;\">\n",
              "        \n",
              "  <svg xmlns=\"http://www.w3.org/2000/svg\" height=\"24px\"viewBox=\"0 0 24 24\"\n",
              "       width=\"24px\">\n",
              "    <path d=\"M0 0h24v24H0V0z\" fill=\"none\"/>\n",
              "    <path d=\"M18.56 5.44l.94 2.06.94-2.06 2.06-.94-2.06-.94-.94-2.06-.94 2.06-2.06.94zm-11 1L8.5 8.5l.94-2.06 2.06-.94-2.06-.94L8.5 2.5l-.94 2.06-2.06.94zm10 10l.94 2.06.94-2.06 2.06-.94-2.06-.94-.94-2.06-.94 2.06-2.06.94z\"/><path d=\"M17.41 7.96l-1.37-1.37c-.4-.4-.92-.59-1.43-.59-.52 0-1.04.2-1.43.59L10.3 9.45l-7.72 7.72c-.78.78-.78 2.05 0 2.83L4 21.41c.39.39.9.59 1.41.59.51 0 1.02-.2 1.41-.59l7.78-7.78 2.81-2.81c.8-.78.8-2.07 0-2.86zM5.41 20L4 18.59l7.72-7.72 1.47 1.35L5.41 20z\"/>\n",
              "  </svg>\n",
              "      </button>\n",
              "      \n",
              "  <style>\n",
              "    .colab-df-container {\n",
              "      display:flex;\n",
              "      flex-wrap:wrap;\n",
              "      gap: 12px;\n",
              "    }\n",
              "\n",
              "    .colab-df-convert {\n",
              "      background-color: #E8F0FE;\n",
              "      border: none;\n",
              "      border-radius: 50%;\n",
              "      cursor: pointer;\n",
              "      display: none;\n",
              "      fill: #1967D2;\n",
              "      height: 32px;\n",
              "      padding: 0 0 0 0;\n",
              "      width: 32px;\n",
              "    }\n",
              "\n",
              "    .colab-df-convert:hover {\n",
              "      background-color: #E2EBFA;\n",
              "      box-shadow: 0px 1px 2px rgba(60, 64, 67, 0.3), 0px 1px 3px 1px rgba(60, 64, 67, 0.15);\n",
              "      fill: #174EA6;\n",
              "    }\n",
              "\n",
              "    [theme=dark] .colab-df-convert {\n",
              "      background-color: #3B4455;\n",
              "      fill: #D2E3FC;\n",
              "    }\n",
              "\n",
              "    [theme=dark] .colab-df-convert:hover {\n",
              "      background-color: #434B5C;\n",
              "      box-shadow: 0px 1px 3px 1px rgba(0, 0, 0, 0.15);\n",
              "      filter: drop-shadow(0px 1px 2px rgba(0, 0, 0, 0.3));\n",
              "      fill: #FFFFFF;\n",
              "    }\n",
              "  </style>\n",
              "\n",
              "      <script>\n",
              "        const buttonEl =\n",
              "          document.querySelector('#df-91823d90-2dac-4687-80d6-653c08b31a6d button.colab-df-convert');\n",
              "        buttonEl.style.display =\n",
              "          google.colab.kernel.accessAllowed ? 'block' : 'none';\n",
              "\n",
              "        async function convertToInteractive(key) {\n",
              "          const element = document.querySelector('#df-91823d90-2dac-4687-80d6-653c08b31a6d');\n",
              "          const dataTable =\n",
              "            await google.colab.kernel.invokeFunction('convertToInteractive',\n",
              "                                                     [key], {});\n",
              "          if (!dataTable) return;\n",
              "\n",
              "          const docLinkHtml = 'Like what you see? Visit the ' +\n",
              "            '<a target=\"_blank\" href=https://colab.research.google.com/notebooks/data_table.ipynb>data table notebook</a>'\n",
              "            + ' to learn more about interactive tables.';\n",
              "          element.innerHTML = '';\n",
              "          dataTable['output_type'] = 'display_data';\n",
              "          await google.colab.output.renderOutput(dataTable, element);\n",
              "          const docLink = document.createElement('div');\n",
              "          docLink.innerHTML = docLinkHtml;\n",
              "          element.appendChild(docLink);\n",
              "        }\n",
              "      </script>\n",
              "    </div>\n",
              "  </div>\n",
              "  "
            ]
          },
          "metadata": {},
          "execution_count": 83
        }
      ]
    },
    {
      "cell_type": "code",
      "source": [
        "y = t['tag']\n",
        "X = t.loc[:,ListaFeatures]\n",
        "X_train, X_test, y_train, y_test = train_test_split(X,y,test_size = 0.2, \n",
        "                                                    random_state = 0)"
      ],
      "metadata": {
        "id": "dj2-FDhpHDTR"
      },
      "execution_count": 4,
      "outputs": []
    },
    {
      "cell_type": "code",
      "source": [
        "X_test.shape"
      ],
      "metadata": {
        "colab": {
          "base_uri": "https://localhost:8080/"
        },
        "id": "ab2QEx5tO_LD",
        "outputId": "477a45a9-b215-4dae-96a7-576c60801943"
      },
      "execution_count": null,
      "outputs": [
        {
          "output_type": "execute_result",
          "data": {
            "text/plain": [
              "(493, 36)"
            ]
          },
          "metadata": {},
          "execution_count": 8
        }
      ]
    },
    {
      "cell_type": "markdown",
      "source": [
        "### SVM"
      ],
      "metadata": {
        "id": "48ckp6spiyap"
      }
    },
    {
      "cell_type": "code",
      "source": [
        "### Grid search\n",
        "\n",
        "clf_search_svm = GridSearchCV(estimator=svm.SVC(),\n",
        "                              param_grid={'C': [1, 10, 100, 1000],\n",
        "                                          'kernel': ('linear', 'rbf','poly','sigmoid'),\n",
        "                                          'gamma': [0.001, 0.0001]\n",
        "                                         })\n",
        "m_svm = clf_search_svm.fit(X_train, y_train.values.ravel())\n",
        "m_svm.best_estimator_"
      ],
      "metadata": {
        "colab": {
          "base_uri": "https://localhost:8080/"
        },
        "id": "9MzuTS_68Y5h",
        "outputId": "ee86ae15-601b-46e7-8102-d7f082503b42"
      },
      "execution_count": null,
      "outputs": [
        {
          "output_type": "execute_result",
          "data": {
            "text/plain": [
              "SVC(C=1000, gamma=0.001, kernel='linear')"
            ]
          },
          "metadata": {},
          "execution_count": 6
        }
      ]
    },
    {
      "cell_type": "code",
      "source": [
        "### Train the classifier\n",
        "\n",
        "clf_svm = svm.SVC(C=1000, break_ties=False, \n",
        "                  cache_size=200, class_weight=None, \n",
        "                  coef0=0.0,decision_function_shape='ovr', \n",
        "                  degree=3, gamma=0.001, kernel='linear',\n",
        "                  max_iter=-1, probability=False, \n",
        "                  random_state=None, shrinking=True,\n",
        "                  tol=0.001, verbose=False\n",
        "                  )\n",
        "\n",
        "clf_svm.fit(X_train, y_train.values.ravel())\n",
        "\n",
        "### Predict label with test data\n",
        "y_pred_svm = clf_svm.predict(X_test)\n",
        "\n",
        "### Model results\n",
        "print(\"Accuracy del modelo:\", accuracy_score(y_test,y_pred_svm))\n",
        "print(classification_report(y_test,y_pred_svm))\n",
        "\n",
        "#scores_svm = \n",
        "print(\"Media de f1-score con cross_validation\")\n",
        "cross_val_score(clf_svm, X_train, y_train, cv=5, scoring='f1_macro').mean()\n",
        "\n",
        "print(\"Media de f1-score con cross_validation en test: \")\n",
        "cross_val_score(clf_svm, X_test, y_test, cv=5, scoring='f1_macro').mean()\n",
        "#print(\"Media de f1-score con cross_validation en test: \", scores_svm.mean())"
      ],
      "metadata": {
        "id": "ND3cl38qdQrB",
        "colab": {
          "base_uri": "https://localhost:8080/"
        },
        "outputId": "ad0d60a4-dab7-4fc0-b7f2-2aab0d154e14"
      },
      "execution_count": 32,
      "outputs": [
        {
          "output_type": "stream",
          "name": "stdout",
          "text": [
            "Accuracy del modelo: 0.742393509127789\n",
            "              precision    recall  f1-score   support\n",
            "\n",
            "           0       0.70      0.83      0.76       239\n",
            "           1       0.81      0.66      0.72       254\n",
            "\n",
            "    accuracy                           0.74       493\n",
            "   macro avg       0.75      0.75      0.74       493\n",
            "weighted avg       0.75      0.74      0.74       493\n",
            "\n",
            "Media de f1-score con cross_validation\n",
            "Media de f1-score con cross_validation en test: \n"
          ]
        },
        {
          "output_type": "execute_result",
          "data": {
            "text/plain": [
              "0.721728071176245"
            ]
          },
          "metadata": {},
          "execution_count": 32
        }
      ]
    },
    {
      "cell_type": "code",
      "source": [
        "from sklearn.metrics import confusion_matrix\n",
        "import numpy as np\n",
        "tn, fp, fn, tp = confusion_matrix(y_test, y_pred_svm).ravel()\n",
        "recall = tp/(tp+fn) \n",
        "specificity = tn/(tn+fp)\n",
        "precision = tp /(tp + fp)\n",
        "round(fp/total,2), round(fn/total,2), round(tp/total,2), round(tn/total,2), recall, precision, specificity"
      ],
      "metadata": {
        "colab": {
          "base_uri": "https://localhost:8080/"
        },
        "id": "fIN9ZoZusoSr",
        "outputId": "aea7f14d-13d5-4710-e4ce-665cef23cf9e"
      },
      "execution_count": 33,
      "outputs": [
        {
          "output_type": "execute_result",
          "data": {
            "text/plain": [
              "(0.08,\n",
              " 0.18,\n",
              " 0.34,\n",
              " 0.4,\n",
              " 0.65748031496063,\n",
              " 0.8067632850241546,\n",
              " 0.8326359832635983)"
            ]
          },
          "metadata": {},
          "execution_count": 33
        }
      ]
    },
    {
      "cell_type": "code",
      "source": [
        "from sklearn.metrics import confusion_matrix\n",
        "import matplotlib.pyplot as plt\n",
        "import numpy as np\n",
        "import seaborn as sns\n",
        "cf_matrix = confusion_matrix(y_test, y_pred_svm)\n",
        "ax = sns.heatmap(cf_matrix/np.sum(cf_matrix), annot=True, \n",
        "            fmt='.1%', cmap='Blues')\n",
        "\n",
        "ax.set_title('SVM with all features\\n\\n');\n",
        "ax.set_xlabel('\\nPredicted Values')\n",
        "ax.set_ylabel('Real Values ');\n",
        "\n",
        "## Ticket labels - List must be in alphabetical order\n",
        "ax.xaxis.set_ticklabels(['Non Offense','High Offense'])\n",
        "ax.yaxis.set_ticklabels(['Non Offense','High Offense'])\n",
        "\n",
        "## Display the visualization of the Confusion Matrix.\n",
        "plt.show()"
      ],
      "metadata": {
        "colab": {
          "base_uri": "https://localhost:8080/",
          "height": 337
        },
        "id": "pd4f8PyWOeRY",
        "outputId": "fd2f0077-8b1d-45a5-c7d1-e41198f5359d"
      },
      "execution_count": null,
      "outputs": [
        {
          "output_type": "display_data",
          "data": {
            "text/plain": [
              "<Figure size 432x288 with 2 Axes>"
            ],
            "image/png": "[encoded data removed]"
          },
          "metadata": {
            "needs_background": "light"
          }
        }
      ]
    },
    {
      "cell_type": "markdown",
      "source": [
        "### Random forests"
      ],
      "metadata": {
        "id": "yd4yHyaykGqy"
      }
    },
    {
      "cell_type": "code",
      "source": [
        "from sklearn.experimental import enable_halving_search_cv \n",
        "from sklearn.model_selection import HalvingGridSearchCV\n",
        "param_grid = {'max_depth': [3, 5, 10, None],'min_samples_split': [2, 5, 10,20]}\n",
        "base_estimator = RandomForestClassifier(random_state=0)\n",
        "\n",
        "sh = HalvingGridSearchCV(base_estimator, param_grid, cv=5,\n",
        "                          factor=5, resource='n_estimators',\n",
        "                          max_resources=30).fit(X_train, y_train.values.ravel())\n",
        "sh.best_params_"
      ],
      "metadata": {
        "colab": {
          "base_uri": "https://localhost:8080/"
        },
        "id": "rwGQ5EA1i-4E",
        "outputId": "f8d034ad-0eb7-46de-b10d-ad8ebe7e81ee"
      },
      "execution_count": null,
      "outputs": [
        {
          "output_type": "execute_result",
          "data": {
            "text/plain": [
              "{'max_depth': 5, 'min_samples_split': 10, 'n_estimators': 30}"
            ]
          },
          "metadata": {},
          "execution_count": 10
        }
      ]
    },
    {
      "cell_type": "code",
      "source": [
        "### Train the classifier\n",
        "clf_rf = RandomForestClassifier(max_depth=5, min_samples_split = 10, n_estimators = 30, random_state=0)\n",
        "clf_rf.fit(X_train, y_train.values.ravel())\n",
        "\n",
        "### Predict label with test data\n",
        "y_pred_rf = clf_rf.predict(X_test)\n",
        "\n",
        "### Model results\n",
        "print(\"Accuracy del modelo:\", accuracy_score(y_test,y_pred_rf))\n",
        "print(classification_report(y_test,y_pred_rf))\n",
        "\n",
        "scores_rf = cross_val_score(clf_rf, X_train, y_train, cv=5, scoring='f1_macro')\n",
        "print(\"Media de f1-score con cross_validation\", scores_rf.mean())\n",
        "\n",
        "scores_rf = cross_val_score(clf_rf, X_test, y_test, cv=5, scoring='f1_macro')\n",
        "print(\"Media de f1-score con cross_validation en test: \", scores_rf.mean())"
      ],
      "metadata": {
        "colab": {
          "base_uri": "https://localhost:8080/"
        },
        "id": "b1vhUod7kFUf",
        "outputId": "7ecfab95-5e3c-4561-fe97-9a38bf312c14"
      },
      "execution_count": 34,
      "outputs": [
        {
          "output_type": "stream",
          "name": "stdout",
          "text": [
            "Accuracy del modelo: 0.7606490872210954\n",
            "              precision    recall  f1-score   support\n",
            "\n",
            "           0       0.72      0.84      0.77       239\n",
            "           1       0.82      0.69      0.75       254\n",
            "\n",
            "    accuracy                           0.76       493\n",
            "   macro avg       0.77      0.76      0.76       493\n",
            "weighted avg       0.77      0.76      0.76       493\n",
            "\n",
            "Media de f1-score con cross_validation 0.7450133739855916\n",
            "Media de f1-score con cross_validation en test:  0.7195850028287438\n"
          ]
        }
      ]
    },
    {
      "cell_type": "code",
      "source": [
        "from sklearn.metrics import confusion_matrix\n",
        "import numpy as np\n",
        "tn, fp, fn, tp = confusion_matrix(y_test, y_pred_rf).ravel()\n",
        "recall = tp/(tp+fn) \n",
        "specificity = tn/(tn+fp)\n",
        "precision = tp / (tp + fp)\n",
        "round(fp/total,2), round(fn/total,2), round(tp/total,2), round(tn/total,2), recall, precision, specificity"
      ],
      "metadata": {
        "colab": {
          "base_uri": "https://localhost:8080/"
        },
        "id": "dHDs1J1bvO4K",
        "outputId": "f3ead028-ece4-4192-d4d6-dbb0a0275f69"
      },
      "execution_count": 35,
      "outputs": [
        {
          "output_type": "execute_result",
          "data": {
            "text/plain": [
              "(0.08,\n",
              " 0.16,\n",
              " 0.35,\n",
              " 0.41,\n",
              " 0.6850393700787402,\n",
              " 0.8207547169811321,\n",
              " 0.8410041841004184)"
            ]
          },
          "metadata": {},
          "execution_count": 35
        }
      ]
    },
    {
      "cell_type": "markdown",
      "source": [
        "### Logistic regression"
      ],
      "metadata": {
        "id": "JoMGihwgqFUb"
      }
    },
    {
      "cell_type": "code",
      "source": [
        "import numpy as np\n",
        "\n",
        "grid_lr = GridSearchCV(estimator = LogisticRegression(max_iter=5000),\n",
        "                      param_grid = {\"C\":np.logspace(-3,3,7), \"penalty\":[\"l1\",\"l2\"]}, # l1 lasso l2 ridge\n",
        "                      cv = 5 \n",
        "                      )\n",
        "grid_lr.fit(X_train,y_train.values.ravel())\n",
        "grid_lr.best_params_"
      ],
      "metadata": {
        "colab": {
          "base_uri": "https://localhost:8080/"
        },
        "id": "BwEOtG8tIxzS",
        "outputId": "bc630ae1-c729-488b-99d6-4c7df2daa338"
      },
      "execution_count": null,
      "outputs": [
        {
          "output_type": "stream",
          "name": "stderr",
          "text": [
            "/usr/local/lib/python3.7/dist-packages/sklearn/model_selection/_validation.py:372: FitFailedWarning: \n",
            "35 fits failed out of a total of 70.\n",
            "The score on these train-test partitions for these parameters will be set to nan.\n",
            "If these failures are not expected, you can try to debug them by setting error_score='raise'.\n",
            "\n",
            "Below are more details about the failures:\n",
            "--------------------------------------------------------------------------------\n",
            "35 fits failed with the following error:\n",
            "Traceback (most recent call last):\n",
            "  File \"/usr/local/lib/python3.7/dist-packages/sklearn/model_selection/_validation.py\", line 680, in _fit_and_score\n",
            "    estimator.fit(X_train, y_train, **fit_params)\n",
            "  File \"/usr/local/lib/python3.7/dist-packages/sklearn/linear_model/_logistic.py\", line 1461, in fit\n",
            "    solver = _check_solver(self.solver, self.penalty, self.dual)\n",
            "  File \"/usr/local/lib/python3.7/dist-packages/sklearn/linear_model/_logistic.py\", line 449, in _check_solver\n",
            "    % (solver, penalty)\n",
            "ValueError: Solver lbfgs supports only 'l2' or 'none' penalties, got l1 penalty.\n",
            "\n",
            "  warnings.warn(some_fits_failed_message, FitFailedWarning)\n",
            "/usr/local/lib/python3.7/dist-packages/sklearn/model_selection/_search.py:972: UserWarning: One or more of the test scores are non-finite: [       nan 0.51472081        nan 0.52639594        nan 0.69137056\n",
            "        nan 0.70253807        nan 0.75025381        nan 0.76091371\n",
            "        nan 0.76294416]\n",
            "  category=UserWarning,\n"
          ]
        },
        {
          "output_type": "execute_result",
          "data": {
            "text/plain": [
              "{'C': 1000.0, 'penalty': 'l2'}"
            ]
          },
          "metadata": {},
          "execution_count": 8
        }
      ]
    },
    {
      "cell_type": "code",
      "source": [
        "# Train the classifier\n",
        "clf_lr = LogisticRegression(C=1000,penalty=\"l2\", max_iter=2000\n",
        "                            )\n",
        "clf_lr.fit(X_train,y_train.values.ravel())\n",
        "\n",
        "\n",
        "### Predict label with test data\n",
        "y_pred_lr = clf_lr.predict(X_test)\n",
        "\n",
        "### Model results\n",
        "print(\"Accuracy del modelo:\", accuracy_score(y_test,y_pred_lr))\n",
        "print(classification_report(y_test,y_pred_lr))\n",
        "\n",
        "scores_lr = cross_val_score(clf_lr, X_train, y_train, cv=5, scoring='f1_macro')\n",
        "print(\"Media de f1-score con cross_validation\", scores_lr.mean())\n",
        "\n",
        "scores_lr = cross_val_score(clf_lr, X_test, y_test, cv=5, scoring='f1_macro')\n",
        "print(\"Media de f1-score con cross_validation en test: \", scores_lr.mean())"
      ],
      "metadata": {
        "colab": {
          "base_uri": "https://localhost:8080/"
        },
        "id": "yMChSjJyH0NO",
        "outputId": "fe6f34bd-1167-4833-abc1-47db2c915939"
      },
      "execution_count": 36,
      "outputs": [
        {
          "output_type": "stream",
          "name": "stdout",
          "text": [
            "Accuracy del modelo: 0.7302231237322515\n",
            "              precision    recall  f1-score   support\n",
            "\n",
            "           0       0.70      0.78      0.74       239\n",
            "           1       0.77      0.68      0.72       254\n",
            "\n",
            "    accuracy                           0.73       493\n",
            "   macro avg       0.73      0.73      0.73       493\n",
            "weighted avg       0.73      0.73      0.73       493\n",
            "\n",
            "Media de f1-score con cross_validation 0.7612537851260093\n",
            "Media de f1-score con cross_validation en test:  0.7297874387806226\n"
          ]
        }
      ]
    },
    {
      "cell_type": "code",
      "source": [
        "from sklearn.metrics import confusion_matrix\n",
        "import numpy as np\n",
        "tn, fp, fn, tp = confusion_matrix(y_test, y_pred_lr).ravel()\n",
        "recall = tp/(tp+fn) \n",
        "specificity = tn/(tn+fp)\n",
        "precision = tp / (tp + fp)\n",
        "round(fp/total,2), round(fn/total,2), round(tp/total,2), round(tn/total,2), recall, precision, specificity"
      ],
      "metadata": {
        "colab": {
          "base_uri": "https://localhost:8080/"
        },
        "id": "4GS1kXtxvV3F",
        "outputId": "37fc904f-364e-4bbb-a6fb-4563deaff6a8"
      },
      "execution_count": 37,
      "outputs": [
        {
          "output_type": "execute_result",
          "data": {
            "text/plain": [
              "(0.11,\n",
              " 0.16,\n",
              " 0.35,\n",
              " 0.38,\n",
              " 0.6811023622047244,\n",
              " 0.7688888888888888,\n",
              " 0.7824267782426778)"
            ]
          },
          "metadata": {},
          "execution_count": 37
        }
      ]
    },
    {
      "cell_type": "code",
      "source": [
        "from sklearn.metrics import confusion_matrix\n",
        "import matplotlib.pyplot as plt\n",
        "import numpy as np\n",
        "import seaborn as sns\n",
        "cf_matrix = confusion_matrix(y_test, y_pred_lr)\n",
        "ax = sns.heatmap(cf_matrix/np.sum(cf_matrix), annot=True, \n",
        "            fmt='.1%', cmap='Blues')\n",
        "\n",
        "ax.set_title('LR with all features\\n\\n');\n",
        "ax.set_xlabel('\\nPredicted Values')\n",
        "ax.set_ylabel('Real Values ');\n",
        "\n",
        "## Ticket labels - List must be in alphabetical order\n",
        "ax.xaxis.set_ticklabels(['Non Offense','High Offense'])\n",
        "ax.yaxis.set_ticklabels(['Non Offense','High Offense'])\n",
        "\n",
        "## Display the visualization of the Confusion Matrix.\n",
        "plt.show()"
      ],
      "metadata": {
        "id": "znK3Ik8-kFbv",
        "colab": {
          "base_uri": "https://localhost:8080/",
          "height": 337
        },
        "outputId": "08db1b2f-b731-45c4-e13e-030989d55505"
      },
      "execution_count": null,
      "outputs": [
        {
          "output_type": "display_data",
          "data": {
            "text/plain": [
              "<Figure size 432x288 with 2 Axes>"
            ],
            "image/png": "[encoded data removed]"
          },
          "metadata": {
            "needs_background": "light"
          }
        }
      ]
    },
    {
      "cell_type": "markdown",
      "source": [
        "# Ablation test"
      ],
      "metadata": {
        "id": "GwxJtNcZBz4X"
      }
    },
    {
      "cell_type": "markdown",
      "source": [
        "# With Content and Syntactic features"
      ],
      "metadata": {
        "id": "NOSWG6avCF0N"
      }
    },
    {
      "cell_type": "code",
      "source": [
        "X_train_ablation1 = X_train.loc[:,[### content features\n",
        "                                   'Hurtlex-negative-stereotypes-ethnic-slurs','PsicoLIWChumans','PsicoLIWCsexual','PsicoLIWCswear',\n",
        "                 'Hurtlex-moral-and-behavioral-defects','PsicoLIWCrelig','PsicoLIWCbio','PsicoLIWCsocial','PsicoLIWCsee',\n",
        "                 'PsicoLIWCexcl','PsicoLIWCquant','PsicoLIWCleisure',\n",
        "                 ###syntactic features\n",
        "                 'PsicoLIWCi','PsicoLIWCppron','PsicoLIWCarticle','adjective_frequency','PsicoLIWCthey','PsicoLIWCpreps',\n",
        "                 'PsicoLIWCauxverb','primera_plural_stanza','adverbs_frequency','noun_frequency',\n",
        "                 #'PsicoLIWCshehe',\n",
        "                 'segunda_singular_stanza',\n",
        "                 ###affective features\n",
        "                 #'surprise_frequency_EmoSenticNet','fear_frequency_SentiSense','PsicoLIWCposemo','PsicoLIWCinhib','PsicoLIWCanx',\n",
        "                 #'PsicoLIWCaffect','disgust_frequency_SentiSense','anger_frequency_SentiSense','sadness_frequency_SentiSense',\n",
        "                 #'like_frequency_SentiSense','joy_frequency_SentiSense','love_frequency_SentiSense'\n",
        "]]\n",
        "\n",
        "X_test_ablation1 = X_test.loc[:,[### content features\n",
        "                                 'Hurtlex-negative-stereotypes-ethnic-slurs','PsicoLIWChumans','PsicoLIWCsexual','PsicoLIWCswear',\n",
        "                 'Hurtlex-moral-and-behavioral-defects','PsicoLIWCrelig','PsicoLIWCbio','PsicoLIWCsocial','PsicoLIWCsee',\n",
        "                 'PsicoLIWCexcl','PsicoLIWCquant','PsicoLIWCleisure',\n",
        "                 ###syntactic features\n",
        "                 'PsicoLIWCi','PsicoLIWCppron','PsicoLIWCarticle','adjective_frequency','PsicoLIWCthey','PsicoLIWCpreps',\n",
        "                 'PsicoLIWCauxverb','primera_plural_stanza','adverbs_frequency','noun_frequency',\n",
        "                 #'PsicoLIWCshehe',\n",
        "                 'segunda_singular_stanza',\n",
        "                 ###affective features\n",
        "                # 'surprise_frequency_EmoSenticNet','fear_frequency_SentiSense','PsicoLIWCposemo','PsicoLIWCinhib','PsicoLIWCanx',\n",
        "                # 'PsicoLIWCaffect','disgust_frequency_SentiSense','anger_frequency_SentiSense','sadness_frequency_SentiSense',\n",
        "                # 'like_frequency_SentiSense','joy_frequency_SentiSense','love_frequency_SentiSense'\n",
        "]]\n",
        "X_test_ablation1.shape"
      ],
      "metadata": {
        "id": "zZqupYIPCFAQ",
        "colab": {
          "base_uri": "https://localhost:8080/"
        },
        "outputId": "14f01cc2-21de-449a-90d2-63b211b87b0d"
      },
      "execution_count": 38,
      "outputs": [
        {
          "output_type": "execute_result",
          "data": {
            "text/plain": [
              "(493, 23)"
            ]
          },
          "metadata": {},
          "execution_count": 38
        }
      ]
    },
    {
      "cell_type": "markdown",
      "source": [
        "### SVM"
      ],
      "metadata": {
        "id": "oBWmZYXKB5jl"
      }
    },
    {
      "cell_type": "code",
      "source": [
        "clf_svm = svm.SVC(C=1000, break_ties=False, \n",
        "                  cache_size=200, class_weight=None, \n",
        "                  coef0=0.0,decision_function_shape='ovr', \n",
        "                  degree=3, gamma=0.001, kernel='linear',\n",
        "                  max_iter=-1, probability=False, \n",
        "                  random_state=None, shrinking=True,\n",
        "                  tol=0.001, verbose=False\n",
        "                  )\n",
        "\n",
        "clf_svm.fit(X_train_ablation1, y_train.values.ravel())\n",
        "### Predict label with test data\n",
        "y_pred_svm = clf_svm.predict(X_test_ablation1)\n",
        "\n",
        "### Model results\n",
        "print(\"Accuracy del modelo:\", accuracy_score(y_test,y_pred_svm))\n",
        "print(classification_report(y_test,y_pred_svm))\n",
        "\n",
        "s1 = cross_val_score(clf_svm, X_train_ablation1, y_train, cv=5, scoring='f1_macro')\n",
        "print(\"Media de f1-score con cross_validation\", s1.mean())\n",
        "\n",
        "score = cross_val_score(clf_svm, X_test_ablation1, y_test, cv=5, scoring='f1_macro')\n",
        "print(\"Media de f1-score con cross_validation en test: \", score.mean())"
      ],
      "metadata": {
        "colab": {
          "base_uri": "https://localhost:8080/"
        },
        "id": "kF9EMu5_D822",
        "outputId": "48b8f711-9306-4d43-b36f-378082e06cc8"
      },
      "execution_count": 39,
      "outputs": [
        {
          "output_type": "stream",
          "name": "stdout",
          "text": [
            "Accuracy del modelo: 0.7363083164300203\n",
            "              precision    recall  f1-score   support\n",
            "\n",
            "           0       0.69      0.84      0.76       239\n",
            "           1       0.81      0.64      0.71       254\n",
            "\n",
            "    accuracy                           0.74       493\n",
            "   macro avg       0.75      0.74      0.73       493\n",
            "weighted avg       0.75      0.74      0.73       493\n",
            "\n",
            "Media de f1-score con cross_validation 0.7565820401116977\n",
            "Media de f1-score con cross_validation en test:  0.7236932361386661\n"
          ]
        }
      ]
    },
    {
      "cell_type": "code",
      "source": [
        "from sklearn.metrics import confusion_matrix\n",
        "import numpy as np\n",
        "tn, fp, fn, tp = confusion_matrix(y_test, y_pred_svm).ravel()\n",
        "total = tn+fp+fn+tp\n",
        "recall = tp/(tp+fn) \n",
        "specificity = tn/(tn+fp)\n",
        "precision = tp / (tp + fp)\n",
        "round(fp/total,2), round(fn/total,2), round(tp/total,2), round(tn/total,2), recall, precision, specificity"
      ],
      "metadata": {
        "colab": {
          "base_uri": "https://localhost:8080/"
        },
        "id": "yAwSjafvzCg3",
        "outputId": "12663b79-6305-48d4-cbdb-47fc480b1441"
      },
      "execution_count": 40,
      "outputs": [
        {
          "output_type": "execute_result",
          "data": {
            "text/plain": [
              "(0.08, 0.19, 0.33, 0.41, 0.6377952755905512, 0.81, 0.8410041841004184)"
            ]
          },
          "metadata": {},
          "execution_count": 40
        }
      ]
    },
    {
      "cell_type": "markdown",
      "source": [
        "### Random forests"
      ],
      "metadata": {
        "id": "evAjRbzyFFM4"
      }
    },
    {
      "cell_type": "code",
      "source": [
        "### Train the classifier\n",
        "clf_rf = RandomForestClassifier(max_depth=5, min_samples_split = 10, n_estimators = 30, random_state=0)\n",
        "clf_rf.fit(X_train_ablation1, y_train.values.ravel())\n",
        "\n",
        "### Predict label with test data\n",
        "y_pred_rf = clf_rf.predict(X_test_ablation1)\n",
        "\n",
        "### Model results\n",
        "print(\"Accuracy del modelo:\", accuracy_score(y_test,y_pred_rf))\n",
        "print(classification_report(y_test,y_pred_rf))\n",
        "\n",
        "scores_rf = cross_val_score(clf_rf, X_train_ablation1, y_train, cv=5, scoring='f1_macro')\n",
        "print(\"Media de f1-score con cross_validation\", scores_rf.mean())\n",
        "\n",
        "scores_rf = cross_val_score(clf_rf, X_test_ablation1, y_test, cv=5, scoring='f1_macro')\n",
        "print(\"Media de f1-score con cross_validation en test: \", scores_rf.mean())"
      ],
      "metadata": {
        "id": "GsKJ_BUvkFiG",
        "colab": {
          "base_uri": "https://localhost:8080/"
        },
        "outputId": "715a766c-b890-4146-a98e-591544240586"
      },
      "execution_count": 14,
      "outputs": [
        {
          "output_type": "stream",
          "name": "stdout",
          "text": [
            "Accuracy del modelo: 0.7221095334685599\n",
            "              precision    recall  f1-score   support\n",
            "\n",
            "           0       0.68      0.81      0.74       239\n",
            "           1       0.78      0.64      0.70       254\n",
            "\n",
            "    accuracy                           0.72       493\n",
            "   macro avg       0.73      0.72      0.72       493\n",
            "weighted avg       0.73      0.72      0.72       493\n",
            "\n",
            "Media de f1-score con cross_validation 0.7413709536466595\n",
            "Media de f1-score con cross_validation en test:  0.7298451652452332\n"
          ]
        }
      ]
    },
    {
      "cell_type": "code",
      "source": [
        "from sklearn.metrics import confusion_matrix\n",
        "import numpy as np\n",
        "tn, fp, fn, tp = confusion_matrix(y_test, y_pred_rf).ravel()\n",
        "total = tn+fp+fn+tp\n",
        "recall = tp/(tp+fn) \n",
        "specificity = tn/(tn+fp)\n",
        "precision = tp / (tp + fp)\n",
        "round(fp/total,2), round(fn/total,2), round(tp/total,2), round(tn/total,2), recall, precision, specificity"
      ],
      "metadata": {
        "colab": {
          "base_uri": "https://localhost:8080/"
        },
        "id": "-WwzwNMEzQHe",
        "outputId": "baacd138-a1f5-45b4-9ebc-24f414b5398e"
      },
      "execution_count": 15,
      "outputs": [
        {
          "output_type": "execute_result",
          "data": {
            "text/plain": [
              "(0.09,\n",
              " 0.18,\n",
              " 0.33,\n",
              " 0.39,\n",
              " 0.6417322834645669,\n",
              " 0.7799043062200957,\n",
              " 0.8075313807531381)"
            ]
          },
          "metadata": {},
          "execution_count": 15
        }
      ]
    },
    {
      "cell_type": "markdown",
      "source": [
        "### Logistic regression"
      ],
      "metadata": {
        "id": "BbV6zXIXGryi"
      }
    },
    {
      "cell_type": "code",
      "source": [
        "# Train the classifier\n",
        "clf_lr = LogisticRegression(C=1000,penalty=\"l2\",max_iter=2000)\n",
        "clf_lr.fit(X_train_ablation1, y_train.values.ravel())\n",
        "\n",
        "### Predict label with test data\n",
        "y_pred_lr = clf_lr.predict(X_test_ablation1)\n",
        "\n",
        "### Model results\n",
        "print(\"Accuracy del modelo:\", accuracy_score(y_test,y_pred_lr))\n",
        "print(classification_report(y_test,y_pred_lr))\n",
        "\n",
        "scores_lr = cross_val_score(clf_lr, X_train_ablation1, y_train, cv=5, scoring='f1_macro')\n",
        "print(\"Media de f1-score con cross_validation\", scores_lr.mean())\n",
        "\n",
        "scores_lr = cross_val_score(clf_lr, X_test_ablation1, y_test, cv=5, scoring='f1_macro')\n",
        "print(\"Media de f1-score con cross_validation en test: \", scores_lr.mean())"
      ],
      "metadata": {
        "id": "MZGJk52FiyT_",
        "colab": {
          "base_uri": "https://localhost:8080/"
        },
        "outputId": "42c5795f-0593-4fc7-9a68-cc200dae54b1"
      },
      "execution_count": 16,
      "outputs": [
        {
          "output_type": "stream",
          "name": "stdout",
          "text": [
            "Accuracy del modelo: 0.7484787018255578\n",
            "              precision    recall  f1-score   support\n",
            "\n",
            "           0       0.71      0.82      0.76       239\n",
            "           1       0.80      0.69      0.74       254\n",
            "\n",
            "    accuracy                           0.75       493\n",
            "   macro avg       0.75      0.75      0.75       493\n",
            "weighted avg       0.75      0.75      0.75       493\n",
            "\n",
            "Media de f1-score con cross_validation 0.7570098512889285\n",
            "Media de f1-score con cross_validation en test:  0.7340643182981893\n"
          ]
        }
      ]
    },
    {
      "cell_type": "code",
      "source": [
        "from sklearn.metrics import confusion_matrix\n",
        "import numpy as np\n",
        "tn, fp, fn, tp = confusion_matrix(y_test, y_pred_lr).ravel()\n",
        "total = tn+fp+fn+tp\n",
        "recall = tp/(tp+fn) \n",
        "specificity = tn/(tn+fp)\n",
        "precision = tp / (tp + fp)\n",
        "round(fp/total,2), round(fn/total,2), round(tp/total,2), round(tn/total,2), recall, precision, specificity"
      ],
      "metadata": {
        "colab": {
          "base_uri": "https://localhost:8080/"
        },
        "id": "KKe_K9pvzXMj",
        "outputId": "845ca118-e1fa-4b5c-b79d-6a29e5a2e1cc"
      },
      "execution_count": 17,
      "outputs": [
        {
          "output_type": "execute_result",
          "data": {
            "text/plain": [
              "(0.09,\n",
              " 0.16,\n",
              " 0.35,\n",
              " 0.4,\n",
              " 0.6850393700787402,\n",
              " 0.7981651376146789,\n",
              " 0.8158995815899581)"
            ]
          },
          "metadata": {},
          "execution_count": 17
        }
      ]
    },
    {
      "cell_type": "code",
      "source": [
        "from sklearn.metrics import confusion_matrix\n",
        "import matplotlib.pyplot as plt\n",
        "import numpy as np\n",
        "import seaborn as sns\n",
        "cf_matrix = confusion_matrix(y_test, y_pred_lr)\n",
        "ax = sns.heatmap(cf_matrix/np.sum(cf_matrix), annot=True, \n",
        "            fmt='.1%', cmap='Blues')\n",
        "\n",
        "ax.set_title('LR without Affective features\\n\\n');\n",
        "ax.set_xlabel('\\nPredicted Values')\n",
        "ax.set_ylabel('Real Values ');\n",
        "\n",
        "## Ticket labels - List must be in alphabetical order\n",
        "ax.xaxis.set_ticklabels(['Non Offense','High Offense'])\n",
        "ax.yaxis.set_ticklabels(['Non Offense','High Offense'])\n",
        "\n",
        "## Display the visualization of the Confusion Matrix.\n",
        "plt.show()"
      ],
      "metadata": {
        "colab": {
          "base_uri": "https://localhost:8080/",
          "height": 337
        },
        "id": "bRp8q0loQo_S",
        "outputId": "95cd399a-ff11-4a32-de8c-d7a466754d1e"
      },
      "execution_count": null,
      "outputs": [
        {
          "output_type": "display_data",
          "data": {
            "text/plain": [
              "<Figure size 432x288 with 2 Axes>"
            ],
            "image/png": "[encoded data removed]"
          },
          "metadata": {
            "needs_background": "light"
          }
        }
      ]
    },
    {
      "cell_type": "markdown",
      "source": [
        "# With Content and Affective features"
      ],
      "metadata": {
        "id": "cef8nfKGvbjD"
      }
    },
    {
      "cell_type": "code",
      "source": [
        "X_train_ablation2 = X_train.loc[:,[###content features\n",
        "                                   'Hurtlex-negative-stereotypes-ethnic-slurs','PsicoLIWChumans','PsicoLIWCsexual','PsicoLIWCswear',\n",
        "                 'Hurtlex-moral-and-behavioral-defects','PsicoLIWCrelig','PsicoLIWCbio','PsicoLIWCsocial','PsicoLIWCsee',\n",
        "                 'PsicoLIWCexcl','PsicoLIWCquant','PsicoLIWCleisure',\n",
        "                 ###syntactic features\n",
        "                 #'PsicoLIWCi','PsicoLIWCppron','PsicoLIWCarticle','adjective_frequency','PsicoLIWCthey','PsicoLIWCpreps',\n",
        "                 #'PsicoLIWCauxverb','primera_plural_stanza','adverbs_frequency','noun_frequency',\n",
        "                 #'PsicoLIWCshehe','segunda_singular_stanza',\n",
        "                 ###affective features\n",
        "                 'surprise_frequency_EmoSenticNet','fear_frequency_SentiSense','PsicoLIWCposemo','PsicoLIWCinhib','PsicoLIWCanx',\n",
        "                 'PsicoLIWCaffect','disgust_frequency_SentiSense','PsicoLIWCanger','sadness_frequency_SentiSense',\n",
        "                 'like_frequency_SentiSense','joy_frequency_SentiSense','love_frequency_SentiSense'\n",
        "]]\n",
        "\n",
        "X_test_ablation2 = X_test.loc[:,[###content features\n",
        "                                   'Hurtlex-negative-stereotypes-ethnic-slurs','PsicoLIWChumans','PsicoLIWCsexual','PsicoLIWCswear',\n",
        "                 'Hurtlex-moral-and-behavioral-defects','PsicoLIWCrelig','PsicoLIWCbio','PsicoLIWCsocial','PsicoLIWCsee',\n",
        "                 'PsicoLIWCexcl','PsicoLIWCquant','PsicoLIWCleisure',\n",
        "                 ###syntactic features\n",
        "                 #'PsicoLIWCi','PsicoLIWCppron','PsicoLIWCarticle','adjective_frequency','PsicoLIWCthey','PsicoLIWCpreps',\n",
        "                 #'PsicoLIWCauxverb','primera_plural_stanza','adverbs_frequency','noun_frequency',\n",
        "                 #'PsicoLIWCshehe','segunda_singular_stanza',\n",
        "                 ###affective features\n",
        "                 'surprise_frequency_EmoSenticNet','fear_frequency_SentiSense','PsicoLIWCposemo','PsicoLIWCinhib','PsicoLIWCanx',\n",
        "                 'PsicoLIWCaffect','disgust_frequency_SentiSense','PsicoLIWCanger','sadness_frequency_SentiSense',\n",
        "                 'like_frequency_SentiSense','joy_frequency_SentiSense','love_frequency_SentiSense'           \n",
        "\n",
        "]]"
      ],
      "metadata": {
        "id": "b03m29O9vahy"
      },
      "execution_count": 41,
      "outputs": []
    },
    {
      "cell_type": "markdown",
      "source": [
        "### SVM"
      ],
      "metadata": {
        "id": "7JLTPs2Ivzmr"
      }
    },
    {
      "cell_type": "code",
      "source": [
        "clf_svm = svm.SVC(C=1000, break_ties=False, \n",
        "                  cache_size=200, class_weight=None, \n",
        "                  coef0=0.0,decision_function_shape='ovr', \n",
        "                  degree=3, gamma=0.001, kernel='linear',\n",
        "                  max_iter=-1, probability=False, \n",
        "                  random_state=None, shrinking=True,\n",
        "                  tol=0.001, verbose=False\n",
        "                  )\n",
        "\n",
        "clf_svm.fit(X_train_ablation2, y_train.values.ravel())\n",
        "### Predict label with test data\n",
        "y_pred_svm = clf_svm.predict(X_test_ablation2)\n",
        "### Model results\n",
        "print(\"Accuracy del modelo:\", accuracy_score(y_test,y_pred_svm))\n",
        "print(classification_report(y_test,y_pred_svm))"
      ],
      "metadata": {
        "id": "QEBdQIDXvakE",
        "colab": {
          "base_uri": "https://localhost:8080/"
        },
        "outputId": "34ab3e33-6ced-43e5-c3b5-38f227a49e22"
      },
      "execution_count": 19,
      "outputs": [
        {
          "output_type": "stream",
          "name": "stdout",
          "text": [
            "Accuracy del modelo: 0.7261663286004056\n",
            "              precision    recall  f1-score   support\n",
            "\n",
            "           0       0.67      0.85      0.75       239\n",
            "           1       0.81      0.61      0.70       254\n",
            "\n",
            "    accuracy                           0.73       493\n",
            "   macro avg       0.74      0.73      0.72       493\n",
            "weighted avg       0.74      0.73      0.72       493\n",
            "\n"
          ]
        }
      ]
    },
    {
      "cell_type": "code",
      "source": [
        "from sklearn.metrics import confusion_matrix\n",
        "import numpy as np\n",
        "tn, fp, fn, tp = confusion_matrix(y_test, y_pred_svm).ravel()\n",
        "total = tn+fp+fn+tp\n",
        "recall = tp/(tp+fn) \n",
        "specificity = tn/(tn+fp)\n",
        "precision = tp / (tp + fp)\n",
        "round(fp/total,2), round(fn/total,2), round(tp/total,2), round(tn/total,2), recall, precision, specificity"
      ],
      "metadata": {
        "colab": {
          "base_uri": "https://localhost:8080/"
        },
        "id": "bvy-ZKDWzlYx",
        "outputId": "271d4d70-9ef1-4447-e1e9-d8a122369517"
      },
      "execution_count": 20,
      "outputs": [
        {
          "output_type": "execute_result",
          "data": {
            "text/plain": [
              "(0.07,\n",
              " 0.2,\n",
              " 0.31,\n",
              " 0.41,\n",
              " 0.610236220472441,\n",
              " 0.8115183246073299,\n",
              " 0.8493723849372385)"
            ]
          },
          "metadata": {},
          "execution_count": 20
        }
      ]
    },
    {
      "cell_type": "code",
      "source": [
        "from sklearn.metrics import confusion_matrix\n",
        "import matplotlib.pyplot as plt\n",
        "import numpy as np\n",
        "import seaborn as sns\n",
        "cf_matrix = confusion_matrix(y_test, y_pred_svm)\n",
        "ax = sns.heatmap(cf_matrix/np.sum(cf_matrix), annot=True, \n",
        "            fmt='.1%', cmap='Blues')\n",
        "\n",
        "ax.set_title('SVM without Syntactic & Morphological features\\n\\n');\n",
        "ax.set_xlabel('\\nPredicted Values')\n",
        "ax.set_ylabel('Real Values ');\n",
        "\n",
        "## Ticket labels - List must be in alphabetical order\n",
        "ax.xaxis.set_ticklabels(['Non Offense','High Offense'])\n",
        "ax.yaxis.set_ticklabels(['Non Offense','High Offense'])\n",
        "\n",
        "## Display the visualization of the Confusion Matrix.\n",
        "plt.show()"
      ],
      "metadata": {
        "colab": {
          "base_uri": "https://localhost:8080/",
          "height": 337
        },
        "id": "LRbR9Rr6Q7v0",
        "outputId": "ca76a928-1b4a-4adf-c02b-5f9661afc64f"
      },
      "execution_count": null,
      "outputs": [
        {
          "output_type": "display_data",
          "data": {
            "text/plain": [
              "<Figure size 432x288 with 2 Axes>"
            ],
            "image/png": "[encoded data removed]"
          },
          "metadata": {
            "needs_background": "light"
          }
        }
      ]
    },
    {
      "cell_type": "code",
      "source": [
        "s1 = cross_val_score(clf_svm, X_train_ablation2, y_train, cv=5, scoring='f1_macro')\n",
        "print(\"Media de f1-score con cross_validation\", s1.mean())"
      ],
      "metadata": {
        "colab": {
          "base_uri": "https://localhost:8080/"
        },
        "id": "dkwzo-5Uvarz",
        "outputId": "bb98bc54-a0a0-4f58-cc6d-b2632b14805b"
      },
      "execution_count": null,
      "outputs": [
        {
          "output_type": "stream",
          "name": "stdout",
          "text": [
            "Media de f1-score con cross_validation 0.7496790533358307\n"
          ]
        }
      ]
    },
    {
      "cell_type": "code",
      "source": [
        "score = cross_val_score(clf_svm, X_test_ablation2, y_test, cv=5, scoring='f1_macro')\n",
        "print(\"Media de f1-score con cross_validation en test: \", score.mean())"
      ],
      "metadata": {
        "colab": {
          "base_uri": "https://localhost:8080/"
        },
        "id": "RWutjPGwvauW",
        "outputId": "66225300-fa46-4c03-c7d8-a0978542aa36"
      },
      "execution_count": null,
      "outputs": [
        {
          "output_type": "stream",
          "name": "stdout",
          "text": [
            "Media de f1-score con cross_validation en test:  0.7296191612503519\n"
          ]
        }
      ]
    },
    {
      "cell_type": "markdown",
      "source": [
        "### Random forests"
      ],
      "metadata": {
        "id": "Q0Vzrf2fwHFV"
      }
    },
    {
      "cell_type": "code",
      "source": [
        "### Train the classifier\n",
        "clf_rf = RandomForestClassifier(max_depth=5, min_samples_split = 10, n_estimators = 30, random_state=0)\n",
        "clf_rf.fit(X_train_ablation2, y_train.values.ravel())\n",
        "\n",
        "### Predict label with test data\n",
        "y_pred_rf = clf_rf.predict(X_test_ablation2)\n",
        "\n",
        "### Model results\n",
        "print(\"Accuracy del modelo:\", accuracy_score(y_test,y_pred_rf))\n",
        "print(classification_report(y_test,y_pred_rf))\n",
        "\n",
        "scores_rf = cross_val_score(clf_rf, X_train_ablation2, y_train, cv=5, scoring='f1_macro')\n",
        "print(\"Media de f1-score con cross_validation\", scores_rf.mean())\n",
        "\n",
        "scores_rf = cross_val_score(clf_rf, X_test_ablation2, y_test, cv=5, scoring='f1_macro')\n",
        "print(\"Media de f1-score con cross_validation en test: \", scores_rf.mean())"
      ],
      "metadata": {
        "colab": {
          "base_uri": "https://localhost:8080/"
        },
        "id": "AUPm6Stcvawv",
        "outputId": "24a45513-c448-44eb-a599-21c8deb0786a"
      },
      "execution_count": 42,
      "outputs": [
        {
          "output_type": "stream",
          "name": "stdout",
          "text": [
            "Accuracy del modelo: 0.7322515212981744\n",
            "              precision    recall  f1-score   support\n",
            "\n",
            "           0       0.68      0.84      0.75       239\n",
            "           1       0.81      0.63      0.71       254\n",
            "\n",
            "    accuracy                           0.73       493\n",
            "   macro avg       0.74      0.74      0.73       493\n",
            "weighted avg       0.75      0.73      0.73       493\n",
            "\n",
            "Media de f1-score con cross_validation 0.7544307596642247\n",
            "Media de f1-score con cross_validation en test:  0.7233225971142703\n"
          ]
        }
      ]
    },
    {
      "cell_type": "code",
      "source": [
        "from sklearn.metrics import confusion_matrix\n",
        "import numpy as np\n",
        "tn, fp, fn, tp = confusion_matrix(y_test, y_pred_rf).ravel()\n",
        "total = tn+fp+fn+tp\n",
        "recall = tp/(tp+fn) \n",
        "specificity = tn/(tn+fp)\n",
        "precision = tp / (tp + fp)\n",
        "round(fp/total,2), round(fn/total,2), round(tp/total,2), round(tn/total,2), recall, precision, specificity"
      ],
      "metadata": {
        "colab": {
          "base_uri": "https://localhost:8080/"
        },
        "id": "TNYfPS-Gzrql",
        "outputId": "52f364ed-3436-4b57-a2a4-8164818b5934"
      },
      "execution_count": 43,
      "outputs": [
        {
          "output_type": "execute_result",
          "data": {
            "text/plain": [
              "(0.08, 0.19, 0.33, 0.41, 0.6338582677165354, 0.805, 0.8368200836820083)"
            ]
          },
          "metadata": {},
          "execution_count": 43
        }
      ]
    },
    {
      "cell_type": "markdown",
      "source": [
        "### Logistic regression"
      ],
      "metadata": {
        "id": "VubePEZmwaaQ"
      }
    },
    {
      "cell_type": "code",
      "source": [
        "# Train the classifier\n",
        "clf_lr = LogisticRegression(C=100,penalty=\"l2\",max_iter=200)\n",
        "clf_lr.fit(X_train_ablation2 , y_train.values.ravel())\n",
        "\n",
        "### Predict label with test data\n",
        "y_pred_lr = clf_lr.predict(X_test_ablation2)\n",
        "\n",
        "### Model results\n",
        "print(\"Accuracy del modelo:\", accuracy_score(y_test,y_pred_lr))\n",
        "print(classification_report(y_test,y_pred_lr))\n",
        "\n",
        "scores_lr = cross_val_score(clf_lr, X_train_ablation2, y_train, cv=5, scoring='f1_macro')\n",
        "print(\"Media de f1-score con cross_validation\", scores_lr.mean())\n",
        "\n",
        "scores_lr = cross_val_score(clf_lr, X_test_ablation2, y_test, cv=5, scoring='f1_macro')\n",
        "print(\"Media de f1-score con cross_validation en test: \", scores_lr.mean())"
      ],
      "metadata": {
        "colab": {
          "base_uri": "https://localhost:8080/"
        },
        "id": "f6eFGd2cwdwT",
        "outputId": "1be4c619-7171-418c-ee27-2176a9c9e931"
      },
      "execution_count": 23,
      "outputs": [
        {
          "output_type": "stream",
          "name": "stdout",
          "text": [
            "Accuracy del modelo: 0.7200811359026369\n",
            "              precision    recall  f1-score   support\n",
            "\n",
            "           0       0.68      0.80      0.74       239\n",
            "           1       0.78      0.64      0.70       254\n",
            "\n",
            "    accuracy                           0.72       493\n",
            "   macro avg       0.73      0.72      0.72       493\n",
            "weighted avg       0.73      0.72      0.72       493\n",
            "\n",
            "Media de f1-score con cross_validation 0.7509117328844429\n",
            "Media de f1-score con cross_validation en test:  0.7258562511373073\n"
          ]
        }
      ]
    },
    {
      "cell_type": "code",
      "source": [
        "from sklearn.metrics import confusion_matrix\n",
        "import numpy as np\n",
        "tn, fp, fn, tp = confusion_matrix(y_test, y_pred_lr).ravel()\n",
        "total = tn+fp+fn+tp\n",
        "recall = tp/(tp+fn) \n",
        "specificity = tn/(tn+fp)\n",
        "precision = tp / (tp + fp)\n",
        "round(fp/total,2), round(fn/total,2), round(tp/total,2), round(tn/total,2), recall, precision, specificity"
      ],
      "metadata": {
        "colab": {
          "base_uri": "https://localhost:8080/"
        },
        "id": "CYe2zDpwzzfc",
        "outputId": "f2364972-becf-4294-f7c8-a6cd908d9a23"
      },
      "execution_count": 24,
      "outputs": [
        {
          "output_type": "execute_result",
          "data": {
            "text/plain": [
              "(0.1,\n",
              " 0.18,\n",
              " 0.33,\n",
              " 0.39,\n",
              " 0.6417322834645669,\n",
              " 0.7761904761904762,\n",
              " 0.803347280334728)"
            ]
          },
          "metadata": {},
          "execution_count": 24
        }
      ]
    },
    {
      "cell_type": "code",
      "source": [
        "from sklearn.metrics import confusion_matrix\n",
        "import matplotlib.pyplot as plt\n",
        "import numpy as np\n",
        "import seaborn as sns\n",
        "cf_matrix = confusion_matrix(y_test, y_pred_lr)\n",
        "ax = sns.heatmap(cf_matrix/np.sum(cf_matrix), annot=True, \n",
        "            fmt='.1%', cmap='Blues')\n",
        "\n",
        "ax.set_title('LR without Syntactic & Morphological features\\n\\n');\n",
        "ax.set_xlabel('\\nPredicted Values')\n",
        "ax.set_ylabel('Real Values ');\n",
        "\n",
        "## Ticket labels - List must be in alphabetical order\n",
        "ax.xaxis.set_ticklabels(['Non Offense','High Offense'])\n",
        "ax.yaxis.set_ticklabels(['Non Offense','High Offense'])\n",
        "\n",
        "## Display the visualization of the Confusion Matrix.\n",
        "plt.show()"
      ],
      "metadata": {
        "colab": {
          "base_uri": "https://localhost:8080/",
          "height": 337
        },
        "id": "8sjTOUpqRQzQ",
        "outputId": "d3eeafc4-6575-48c2-eb4e-033c4c565a71"
      },
      "execution_count": null,
      "outputs": [
        {
          "output_type": "display_data",
          "data": {
            "text/plain": [
              "<Figure size 432x288 with 2 Axes>"
            ],
            "image/png": "[encoded data removed]"
          },
          "metadata": {
            "needs_background": "light"
          }
        }
      ]
    },
    {
      "cell_type": "markdown",
      "source": [
        "# With Syntactic and Affective features"
      ],
      "metadata": {
        "id": "H2D_L4qjxlYb"
      }
    },
    {
      "cell_type": "code",
      "source": [
        "X_train_ablation3 = X_train.loc[:,[###content features\n",
        "                # 'Hurtlex-negative-stereotypes-ethnic-slurs','PsicoLIWChumans','PsicoLIWCsexual','PsicoLIWCswear',\n",
        "                # 'Hurtlex-moral-and-behavioral-defects','PsicoLIWCrelig','PsicoLIWCbio','PsicoLIWCsocial','PsicoLIWCsee',\n",
        "                # 'PsicoLIWCexcl','PsicoLIWCquant','PsicoLIWCleisure',\n",
        "                 ###syntactic features\n",
        "                 'PsicoLIWCi','PsicoLIWCppron','PsicoLIWCarticle','adjective_frequency','PsicoLIWCthey','PsicoLIWCpreps',\n",
        "                 'PsicoLIWCauxverb','primera_plural_stanza','adverbs_frequency','noun_frequency',\n",
        "                 #'PsicoLIWCshehe',\n",
        "                 'segunda_singular_stanza',\n",
        "                 ###affective features\n",
        "                 'surprise_frequency_EmoSenticNet','fear_frequency_SentiSense','PsicoLIWCposemo','PsicoLIWCinhib','PsicoLIWCanx',\n",
        "                 'PsicoLIWCaffect','disgust_frequency_SentiSense','PsicoLIWCanger','sadness_frequency_SentiSense',\n",
        "                 'like_frequency_SentiSense','joy_frequency_SentiSense','love_frequency_SentiSense'\n",
        "]]\n",
        "\n",
        "X_test_ablation3 = X_test.loc[:,[###content features\n",
        "                # 'Hurtlex-negative-stereotypes-ethnic-slurs','PsicoLIWChumans','PsicoLIWCsexual','PsicoLIWCswear',\n",
        "                # 'Hurtlex-moral-and-behavioral-defects','PsicoLIWCrelig','PsicoLIWCbio','PsicoLIWCsocial','PsicoLIWCsee',\n",
        "                # 'PsicoLIWCexcl','PsicoLIWCquant','PsicoLIWCleisure',\n",
        "                 ###syntactic features\n",
        "                 'PsicoLIWCi','PsicoLIWCppron','PsicoLIWCarticle','adjective_frequency','PsicoLIWCthey','PsicoLIWCpreps',\n",
        "                 'PsicoLIWCauxverb','primera_plural_stanza','adverbs_frequency','noun_frequency',\n",
        "                 #'PsicoLIWCshehe',\n",
        "                 'segunda_singular_stanza',\n",
        "                 ###affective features\n",
        "                 'surprise_frequency_EmoSenticNet','fear_frequency_SentiSense','PsicoLIWCposemo','PsicoLIWCinhib','PsicoLIWCanx',\n",
        "                 'PsicoLIWCaffect','disgust_frequency_SentiSense','PsicoLIWCanger','sadness_frequency_SentiSense',\n",
        "                 'like_frequency_SentiSense','joy_frequency_SentiSense','love_frequency_SentiSense'           \n",
        "\n",
        "]]\n",
        "\n",
        "X_train_ablation3.shape"
      ],
      "metadata": {
        "colab": {
          "base_uri": "https://localhost:8080/"
        },
        "id": "tfYdr6uVwd0F",
        "outputId": "2c998d9c-d5ce-480a-f3e7-0184ed60bdea"
      },
      "execution_count": 25,
      "outputs": [
        {
          "output_type": "execute_result",
          "data": {
            "text/plain": [
              "(1970, 23)"
            ]
          },
          "metadata": {},
          "execution_count": 25
        }
      ]
    },
    {
      "cell_type": "markdown",
      "source": [
        "### SVM"
      ],
      "metadata": {
        "id": "ZFYw68inyMUY"
      }
    },
    {
      "cell_type": "code",
      "source": [
        "clf_svm = svm.SVC(C=1000, break_ties=False, \n",
        "                  cache_size=200, class_weight=None, \n",
        "                  coef0=0.0,decision_function_shape='ovr', \n",
        "                  degree=3, gamma=0.001, kernel='linear',\n",
        "                  max_iter=-1, probability=False, \n",
        "                  random_state=None, shrinking=True,\n",
        "                  tol=0.001, verbose=False\n",
        "                  )\n",
        "\n",
        "clf_svm.fit(X_train_ablation3, y_train.values.ravel())\n",
        "### Predict label with test data\n",
        "y_pred_svm = clf_svm.predict(X_test_ablation3)\n",
        "\n",
        "### Model results\n",
        "print(\"Accuracy del modelo:\", accuracy_score(y_test,y_pred_svm))\n",
        "print(classification_report(y_test,y_pred_svm))\n",
        "\n",
        "s1 = cross_val_score(clf_svm, X_train_ablation3, y_train, cv=5, scoring='f1_macro')\n",
        "print(\"Media de f1-score con cross_validation\", s1.mean())\n",
        "\n",
        "score = cross_val_score(clf_svm, X_test_ablation3, y_test, cv=5, scoring='f1_macro')\n",
        "print(\"Media de f1-score con cross_validation en test: \", score.mean())"
      ],
      "metadata": {
        "colab": {
          "base_uri": "https://localhost:8080/"
        },
        "id": "p2Iuca1dwd2h",
        "outputId": "a59dc380-4b86-48bc-e860-eb74cf3eeb7a"
      },
      "execution_count": 26,
      "outputs": [
        {
          "output_type": "stream",
          "name": "stdout",
          "text": [
            "Accuracy del modelo: 0.6450304259634888\n",
            "              precision    recall  f1-score   support\n",
            "\n",
            "           0       0.63      0.66      0.64       239\n",
            "           1       0.66      0.63      0.65       254\n",
            "\n",
            "    accuracy                           0.65       493\n",
            "   macro avg       0.65      0.65      0.65       493\n",
            "weighted avg       0.65      0.65      0.65       493\n",
            "\n",
            "Media de f1-score con cross_validation 0.6700125544840141\n",
            "Media de f1-score con cross_validation en test:  0.6200775315497891\n"
          ]
        }
      ]
    },
    {
      "cell_type": "code",
      "source": [
        "from sklearn.metrics import confusion_matrix\n",
        "import numpy as np\n",
        "tn, fp, fn, tp = confusion_matrix(y_test, y_pred_svm).ravel()\n",
        "total = tn+fp+fn+tp\n",
        "recall = tp/(tp+fn) \n",
        "specificity = tn/(tn+fp)\n",
        "precision = tp / (tp + fp)\n",
        "round(fp/total,2), round(fn/total,2), round(tp/total,2), round(tn/total,2), recall, precision, specificity"
      ],
      "metadata": {
        "colab": {
          "base_uri": "https://localhost:8080/"
        },
        "id": "dZYG76fn0Dzy",
        "outputId": "7977a9ae-d454-43cf-848b-83e496d8ecf0"
      },
      "execution_count": 27,
      "outputs": [
        {
          "output_type": "execute_result",
          "data": {
            "text/plain": [
              "(0.17,\n",
              " 0.19,\n",
              " 0.33,\n",
              " 0.32,\n",
              " 0.6338582677165354,\n",
              " 0.6625514403292181,\n",
              " 0.6569037656903766)"
            ]
          },
          "metadata": {},
          "execution_count": 27
        }
      ]
    },
    {
      "cell_type": "markdown",
      "source": [
        "## Random forests"
      ],
      "metadata": {
        "id": "anjJz1YZyOHY"
      }
    },
    {
      "cell_type": "code",
      "source": [
        "### Train the classifier\n",
        "clf_rf = RandomForestClassifier(max_depth=5, min_samples_split = 10, n_estimators = 30, random_state=0)\n",
        "clf_rf.fit(X_train_ablation3, y_train.values.ravel())\n",
        "\n",
        "### Predict label with test data\n",
        "y_pred_rf = clf_rf.predict(X_test_ablation3)\n",
        "\n",
        "### Model results\n",
        "print(\"Accuracy del modelo:\", accuracy_score(y_test,y_pred_rf))\n",
        "print(classification_report(y_test,y_pred_rf))\n",
        "\n",
        "scores_rf = cross_val_score(clf_rf, X_train_ablation3, y_train, cv=5, scoring='f1_macro')\n",
        "print(\"Media de f1-score con cross_validation\", scores_rf.mean())\n",
        "\n",
        "scores_rf = cross_val_score(clf_rf, X_test_ablation3, y_test, cv=5, scoring='f1_macro')\n",
        "print(\"Media de f1-score con cross_validation en test: \", scores_rf.mean())"
      ],
      "metadata": {
        "colab": {
          "base_uri": "https://localhost:8080/"
        },
        "id": "kTyF3Valwd5D",
        "outputId": "4a78159a-5204-4a3c-b4a9-4f849a066ac6"
      },
      "execution_count": 28,
      "outputs": [
        {
          "output_type": "stream",
          "name": "stdout",
          "text": [
            "Accuracy del modelo: 0.6632860040567952\n",
            "              precision    recall  f1-score   support\n",
            "\n",
            "           0       0.65      0.67      0.66       239\n",
            "           1       0.68      0.65      0.67       254\n",
            "\n",
            "    accuracy                           0.66       493\n",
            "   macro avg       0.66      0.66      0.66       493\n",
            "weighted avg       0.66      0.66      0.66       493\n",
            "\n",
            "Media de f1-score con cross_validation 0.6543675261842314\n",
            "Media de f1-score con cross_validation en test:  0.6313522985600064\n"
          ]
        }
      ]
    },
    {
      "cell_type": "code",
      "source": [
        "from sklearn.metrics import confusion_matrix\n",
        "import numpy as np\n",
        "tn, fp, fn, tp = confusion_matrix(y_test, y_pred_rf).ravel()\n",
        "total = tn+fp+fn+tp\n",
        "recall = tp/(tp+fn) \n",
        "specificity = tn/(tn+fp)\n",
        "precision =  tp / (tp + fp)\n",
        "round(fp/total,2), round(fn/total,2), round(tp/total,2), round(tn/total,2), recall, precision, specificity"
      ],
      "metadata": {
        "colab": {
          "base_uri": "https://localhost:8080/"
        },
        "id": "rYB7qUEi0Kwn",
        "outputId": "1b088fbf-db83-4da7-9ae3-404f5582ea0b"
      },
      "execution_count": 29,
      "outputs": [
        {
          "output_type": "execute_result",
          "data": {
            "text/plain": [
              "(0.16,\n",
              " 0.18,\n",
              " 0.34,\n",
              " 0.33,\n",
              " 0.6535433070866141,\n",
              " 0.680327868852459,\n",
              " 0.6736401673640168)"
            ]
          },
          "metadata": {},
          "execution_count": 29
        }
      ]
    },
    {
      "cell_type": "markdown",
      "source": [
        "## Logistic regression"
      ],
      "metadata": {
        "id": "GGp2aD40yRZ8"
      }
    },
    {
      "cell_type": "code",
      "source": [
        "# Train the classifier\n",
        "clf_lr = LogisticRegression(C=100,penalty=\"l2\",max_iter=200)\n",
        "clf_lr.fit(X_train_ablation3, y_train.values.ravel())\n",
        "\n",
        "### Predict label with test data\n",
        "y_pred_lr = clf_lr.predict(X_test_ablation3)\n",
        "\n",
        "### Model results\n",
        "print(\"Accuracy del modelo:\", accuracy_score(y_test,y_pred_lr))\n",
        "print(classification_report(y_test,y_pred_lr))\n",
        "\n",
        "scores_lr = cross_val_score(clf_lr, X_train_ablation3, y_train, cv=5, scoring='f1_macro')\n",
        "print(\"Media de f1-score con cross_validation\", scores_lr.mean())\n",
        "\n",
        "scores_lr = cross_val_score(clf_lr, X_test_ablation3, y_test, cv=5, scoring='f1_macro')\n",
        "print(\"Media de f1-score con cross_validation en test: \", scores_lr.mean())"
      ],
      "metadata": {
        "colab": {
          "base_uri": "https://localhost:8080/"
        },
        "id": "peBZex-By-z1",
        "outputId": "5c9dd465-13b5-41c7-b014-a54715f6eed6"
      },
      "execution_count": 30,
      "outputs": [
        {
          "output_type": "stream",
          "name": "stdout",
          "text": [
            "Accuracy del modelo: 0.6572008113590264\n",
            "              precision    recall  f1-score   support\n",
            "\n",
            "           0       0.64      0.66      0.65       239\n",
            "           1       0.67      0.65      0.66       254\n",
            "\n",
            "    accuracy                           0.66       493\n",
            "   macro avg       0.66      0.66      0.66       493\n",
            "weighted avg       0.66      0.66      0.66       493\n",
            "\n",
            "Media de f1-score con cross_validation 0.6699424439042438\n",
            "Media de f1-score con cross_validation en test:  0.6247920640602803\n"
          ]
        }
      ]
    },
    {
      "cell_type": "code",
      "source": [
        "from sklearn.metrics import confusion_matrix\n",
        "import numpy as np\n",
        "tn, fp, fn, tp = confusion_matrix(y_test, y_pred_lr).ravel()\n",
        "total = tn+fp+fn+tp\n",
        "recall = tp/(tp+fn) \n",
        "specificity = tn/(tn+fp)\n",
        "precision = tp / (tp + fp)\n",
        "round(fp/total,2), round(fn/total,2), round(tp/total,2), round(tn/total,2), recall, precision, specificity"
      ],
      "metadata": {
        "colab": {
          "base_uri": "https://localhost:8080/"
        },
        "id": "Wy0IRQU_0R0o",
        "outputId": "e777f590-c090-40fc-ae0b-159fda102a10"
      },
      "execution_count": 31,
      "outputs": [
        {
          "output_type": "execute_result",
          "data": {
            "text/plain": [
              "(0.16,\n",
              " 0.18,\n",
              " 0.34,\n",
              " 0.32,\n",
              " 0.6535433070866141,\n",
              " 0.6720647773279352,\n",
              " 0.6610878661087866)"
            ]
          },
          "metadata": {},
          "execution_count": 31
        }
      ]
    },
    {
      "cell_type": "code",
      "source": [
        ""
      ],
      "metadata": {
        "id": "68JNpAxldRJO"
      },
      "execution_count": null,
      "outputs": []
    },
    {
      "cell_type": "code",
      "source": [
        ""
      ],
      "metadata": {
        "id": "3JS-ZsfDdRLJ"
      },
      "execution_count": null,
      "outputs": []
    }
  ]
}