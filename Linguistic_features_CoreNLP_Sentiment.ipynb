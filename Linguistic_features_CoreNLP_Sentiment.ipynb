{
 "cells": [
  {
   "cell_type": "code",
   "execution_count": 1,
   "metadata": {},
   "outputs": [],
   "source": [
    "#https://www.analyticsvidhya.com/blog/2021/06/text-preprocessing-in-nlp-with-python-codes/"
   ]
  },
  {
   "cell_type": "code",
   "execution_count": 1,
   "metadata": {},
   "outputs": [],
   "source": [
    "from sentic import SenticPhrase\n",
    "import sentic\n",
    "import senticnet\n",
    "import pandas as pd\n",
    "import seaborn as sns\n",
    "import re\n",
    "#from sklearn.feature_extraction.text import CountVectorizer, TfidfTransformer, TfidfVectorizer\n",
    "from textblob import TextBlob\n",
    "import string\n",
    "#import gensim.downloader as api\n",
    "import spacy\n",
    "import stanza\n",
    "#nlp = spacy.load(\"en_core_web_sm\")\n",
    "import nltk\n",
    "import ssl\n",
    "from nltk.corpus import wordnet as wn\n",
    "from nltk.corpus import sentiwordnet as swn\n",
    "from nltk.stem import WordNetLemmatizer\n",
    "from nltk.corpus import stopwords\n",
    "from nltk.tokenize import word_tokenize \n",
    "from nltk import pos_tag"
   ]
  },
  {
   "cell_type": "code",
   "execution_count": 3,
   "metadata": {},
   "outputs": [],
   "source": [
    "#list(df.columns)"
   ]
  },
  {
   "cell_type": "code",
   "execution_count": 2,
   "metadata": {},
   "outputs": [],
   "source": [
    "#df = pd.read_csv(\"datos_train.csv\",sep = ',')\n",
    "df = pd.read_excel(\"datos_features.xlsx\")\n",
    "#df.head(2)"
   ]
  },
  {
   "cell_type": "markdown",
   "metadata": {},
   "source": [
    "###### Extracción de sentimiento con Stanza ( 0 - Negativo, 1 - Neutro, 2 - Positivo)\n",
    "\n",
    "The SentimentProcessor adds a label for sentiment to each Sentence. The existing models each support negative, neutral, and positive, represented by 0, 1, 2 respectively."
   ]
  },
  {
   "cell_type": "code",
   "execution_count": 9,
   "metadata": {},
   "outputs": [
    {
     "data": {
      "text/plain": [
       "0    TENNESSEE: We're the best state. Nobody even c...\n",
       "1    A man inserted an advertisement in the classif...\n",
       "2    How many men does it take to open a can of bee...\n",
       "3    Told my mom I hit 1200 Twitter followers. She ...\n",
       "4    Roses are dead. Love is fake. Weddings are bas...\n",
       "5    'Trabajo,' the Spanish word for work, comes fr...\n",
       "6    I enrolled on some skill training and extra cu...\n",
       "7    ME: I'm such an original. Truly one of a kind....\n",
       "8    Men who ejaculated 21 times or more a month ha...\n",
       "9    I got REALLY angry today and it wasn't about n...\n",
       "Name: text, dtype: object"
      ]
     },
     "execution_count": 9,
     "metadata": {},
     "output_type": "execute_result"
    }
   ],
   "source": [
    "t = df['text']\n",
    "t = t[0:10]\n",
    "#t"
   ]
  },
  {
   "cell_type": "code",
   "execution_count": 21,
   "metadata": {},
   "outputs": [],
   "source": [
    "def sentiment_stanza(t):\n",
    "    \n",
    "    nlp = stanza.Pipeline(lang='en', processors='tokenize,sentiment')\n",
    "    \n",
    "    for i in range(len(t)):\n",
    "        token = nlp(t[i])\n",
    "        for i, sentence in enumerate(token.sentences):\n",
    "            yield sentence.sentiment #The sentiment value for this sentence, as a string\n",
    "            #print(sentence.sentiment)"
   ]
  },
  {
   "cell_type": "code",
   "execution_count": 24,
   "metadata": {},
   "outputs": [],
   "source": [
    "t = df['texto_limpio']\n",
    "sentimiento_stanza = sentiment_stanza(t)"
   ]
  },
  {
   "cell_type": "code",
   "execution_count": 25,
   "metadata": {},
   "outputs": [
    {
     "name": "stderr",
     "output_type": "stream",
     "text": [
      "2022-06-07 08:59:53 INFO: Loading these models for language: en (English):\n",
      "========================\n",
      "| Processor | Package  |\n",
      "------------------------\n",
      "| tokenize  | combined |\n",
      "| sentiment | sstplus  |\n",
      "========================\n",
      "\n",
      "2022-06-07 08:59:53 INFO: Use device: cpu\n",
      "2022-06-07 08:59:53 INFO: Loading: tokenize\n",
      "2022-06-07 08:59:53 INFO: Loading: sentiment\n",
      "2022-06-07 08:59:53 INFO: Done loading processors!\n"
     ]
    }
   ],
   "source": [
    "sentimientoStanza = []\n",
    "for i in sentimiento_stanza:\n",
    "    sentimientoStanza.append(i)\n",
    "df['sentimiento_stanza'] = sentimientoStanza\n",
    "#df.head()"
   ]
  },
  {
   "cell_type": "markdown",
   "metadata": {},
   "source": [
    "##### Polarity average feature with Sentic\n",
    "Analiza como el sentimiento fluye de concepto en concepto a través de relaciones de dependencia para un mejor entendimiento del rol contextual de cada concepto en el texto y conseguir una inferencia dinámica de la polaridad que mejore los métodos estadísticos del estado del arte en términod de accuracy y tiempo de train."
   ]
  },
  {
   "cell_type": "code",
   "execution_count": 29,
   "metadata": {},
   "outputs": [],
   "source": [
    "#https://pypi.org/project/sentic/\n",
    "\n",
    "polaridad_sentic = [] \n",
    "\n",
    "t = df['text']\n",
    "for i in range(len(t)):\n",
    "    sentence = t[i] #.split()\n",
    "            \n",
    "    try:\n",
    "        sp = SenticPhrase(sentence)\n",
    "        polaridad = sp.get_polarity()\n",
    "                      \n",
    "    except KeyError:\n",
    "        print(sentence)\n",
    "        continue\n",
    "    polaridad_sentic.append(polaridad)"
   ]
  },
  {
   "cell_type": "code",
   "execution_count": 32,
   "metadata": {},
   "outputs": [],
   "source": [
    "df['polaridad_media_sentic'] = polaridad_sentic"
   ]
  },
  {
   "cell_type": "code",
   "execution_count": 35,
   "metadata": {},
   "outputs": [
    {
     "data": {
      "text/plain": [
       "0    0.1120\n",
       "1    0.4040\n",
       "2    0.2280\n",
       "3    0.0070\n",
       "4   -0.0575\n",
       "Name: polaridad_media_sentic, dtype: float64"
      ]
     },
     "execution_count": 35,
     "metadata": {},
     "output_type": "execute_result"
    }
   ],
   "source": [
    "df[\"polaridad_media_sentic\"].head()"
   ]
  },
  {
   "cell_type": "markdown",
   "metadata": {},
   "source": [
    "#### https://www.kaggle.com/yommnamohamed/sentiment-analysis-using-sentiwordnet"
   ]
  },
  {
   "cell_type": "markdown",
   "metadata": {},
   "source": [
    "#### Sentiment with SentiWordNet\n",
    "\n",
    "SentiWordNet is an opinion lexicon derived from the WordNet database where each term is associated with numerical scores indicating positive and negative sentiment information. \n",
    "usa nltk.\n",
    "para cada token con su part-of-speech, se obtiene su score (pos, neg y neu) relacionado al tag que tenga la palabra. se tiene en cuenta su contexto.\n",
    "Pos(s) + Neg(s) + Obj(s) = 1\n",
    "ej: si una oración tiene un score neg de 0.5, y scores 0 para pos y neu, su score resultante será 1 (negativo)"
   ]
  },
  {
   "cell_type": "code",
   "execution_count": 90,
   "metadata": {},
   "outputs": [],
   "source": [
    "pos=0\n",
    "neg=0\n",
    "obj=0\n",
    "count=0\n",
    "texto = df['texto_limpio']\n",
    "postagging = []\n",
    "\n",
    "for i in range(len(texto)):\n",
    "    words = texto[i].split()\n",
    "    postagging.append(nltk.pos_tag(words))\n",
    "\n",
    "def tags(tag):\n",
    "    if tag.startswith('J'):\n",
    "        return wn.ADJ\n",
    "    elif tag.startswith('N'):\n",
    "        return wn.NOUN\n",
    "    elif tag.startswith('R'):\n",
    "        return wn.ADV\n",
    "    elif tag.startswith('V'):\n",
    "        return wn.VERB\n",
    "    return None\n",
    "\n",
    "\n",
    "def get_sentiment(word,tag):\n",
    "    word_tags = tags(tag)\n",
    "    \n",
    "    if word_tags not in (wn.NOUN, wn.ADJ, wn.ADV):\n",
    "        return []\n",
    "\n",
    "    #Lemmatization\n",
    "    \"\"\"lemma = lemmatizer.lemmatize(word, pos=wn_tag)\n",
    "    if not lemma:\n",
    "        return []\"\"\"\n",
    "    \n",
    "    synsets = wn.synsets(word, pos=word_tags)\n",
    "    if not synsets:\n",
    "        return []\n",
    "    \n",
    "    #tomo el primer sinónimo, el más común\n",
    "    synset = synsets[0]\n",
    "    swn_synset = swn.senti_synset(synset.name())\n",
    "    \n",
    "    #print([synset.name(), swn_synset.pos_score(),swn_synset.neg_score(),swn_synset.obj_score()][0:5])\n",
    "    return [synset.name(), swn_synset.pos_score(),swn_synset.neg_score(),swn_synset.obj_score()]"
   ]
  },
  {
   "cell_type": "code",
   "execution_count": 91,
   "metadata": {},
   "outputs": [],
   "source": [
    "pos=0\n",
    "neg=0\n",
    "obj=0\n",
    "count=0\n",
    "\n",
    "senti_score = []\n",
    "\n",
    "for pos_val in postagging:\n",
    "    senti_val = [get_sentiment(x,y) for (x,y) in pos_val]\n",
    "    for score in senti_val:\n",
    "        try:\n",
    "            pos = pos + score[1]  #positive score is stored at 2nd position\n",
    "            neg = neg + score[2]  #negative score is stored at 3rd position\n",
    "        except:\n",
    "            continue\n",
    "    senti_score.append(pos - neg)\n",
    "    pos=neg=0    "
   ]
  },
  {
   "cell_type": "code",
   "execution_count": 93,
   "metadata": {},
   "outputs": [],
   "source": [
    "df['sentiwordnet_score'] = senti_score\n",
    "overall=[]\n",
    "for i in range(len(texto)):\n",
    "    if df['sentiwordnet_score'][i]>= 0.05:\n",
    "        overall.append('Positive')\n",
    "    elif df['sentiwordnet_score'][i]<= -0.05:\n",
    "        overall.append('Negative')\n",
    "    else:\n",
    "        overall.append('Neutral')\n",
    "df['sentiwordnet_overall_Sentiment'] = overall"
   ]
  },
  {
   "cell_type": "code",
   "execution_count": 27,
   "metadata": {},
   "outputs": [
    {
     "data": {
      "text/plain": [
       "count    8000.000000\n",
       "mean       -0.146405\n",
       "std         0.718333\n",
       "min        -4.500000\n",
       "25%        -0.625000\n",
       "50%         0.000000\n",
       "75%         0.250000\n",
       "max         3.875000\n",
       "Name: sentiwordnet_score, dtype: float64"
      ]
     },
     "execution_count": 27,
     "metadata": {},
     "output_type": "execute_result"
    }
   ],
   "source": [
    "df['sentiwordnet_score'].describe()"
   ]
  },
  {
   "cell_type": "code",
   "execution_count": 16,
   "metadata": {},
   "outputs": [],
   "source": [
    "synset = wn.synsets('love', pos=wn.ADJ)\n"
   ]
  },
  {
   "cell_type": "code",
   "execution_count": 12,
   "metadata": {},
   "outputs": [
    {
     "data": {
      "text/plain": [
       "('ugly.a.01', 0.0, 0.375, 0.625)"
      ]
     },
     "execution_count": 12,
     "metadata": {},
     "output_type": "execute_result"
    }
   ],
   "source": [
    "synset.name(), swn_synset.pos_score(),swn_synset.neg_score(),swn_synset.obj_score()"
   ]
  },
  {
   "cell_type": "markdown",
   "metadata": {},
   "source": [
    "##### Sentiment VADER\n",
    "\n",
    "model used for text sentiment analysis that is sensitive to both polarity (positive/negative) and intensity (strength) of emotion.The sentiment score of a text can be obtained by summing up the intensity of each word in the text.\n",
    "sentiment score is measured on a scale from -4 to +4, where -4 is the most negative and +4 is the most positive. The midpoint 0 represents a neutral sentiment.\n",
    "uso compound score. resumiendo los valence scores de cada pal en el lexicon, ajustandolo según las reglas y normalizandolo entre -1(muy neg) a 1(muy pos). útil si se quiere una metrica unidimensional del sentimiento de una oración, siendo el 'score ponderado normalizado'"
   ]
  },
  {
   "cell_type": "code",
   "execution_count": 3,
   "metadata": {},
   "outputs": [],
   "source": [
    "from vaderSentiment.vaderSentiment import SentimentIntensityAnalyzer\n",
    "\n",
    "def sentiment_vader(texto):\n",
    "    \n",
    "    # Create a SentimentIntensityAnalyzer object.\n",
    "    sid_obj = SentimentIntensityAnalyzer()\n",
    "    \n",
    "    #for i, sentence in enumerate(texto):\n",
    "    sentiment_dict = sid_obj.polarity_scores(texto)\n",
    "    '''  negative = sentiment_dict['neg']\n",
    "        neutral = sentiment_dict['neu']\n",
    "        positive = sentiment_dict['pos'] '''\n",
    "    \n",
    "    return sentiment_dict['compound']\n",
    "\n",
    "df['vader_score_sentiment'] = df['texto_limpio'].apply(sentiment_vader)"
   ]
  },
  {
   "cell_type": "code",
   "execution_count": 4,
   "metadata": {},
   "outputs": [],
   "source": [
    "df['vader_score_sentiment_normal'] = df['text'].apply(sentiment_vader)"
   ]
  },
  {
   "cell_type": "code",
   "execution_count": 28,
   "metadata": {},
   "outputs": [
    {
     "data": {
      "text/plain": [
       "array([-0.1779,  0.5574,  0.    , ..., -0.8527, -0.343 , -0.2635])"
      ]
     },
     "execution_count": 28,
     "metadata": {},
     "output_type": "execute_result"
    }
   ],
   "source": [
    "df['vader_score_sentiment'].unique()"
   ]
  },
  {
   "cell_type": "code",
   "execution_count": 5,
   "metadata": {},
   "outputs": [
    {
     "data": {
      "text/plain": [
       "array([ 0.1531,  0.5106,  0.    , ..., -0.7235,  0.1759, -0.2635])"
      ]
     },
     "execution_count": 5,
     "metadata": {},
     "output_type": "execute_result"
    }
   ],
   "source": [
    "df['vader_score_sentiment_normal'].unique()"
   ]
  },
  {
   "cell_type": "code",
   "execution_count": 7,
   "metadata": {},
   "outputs": [],
   "source": [
    "def tag(score):\n",
    "    \n",
    "    if score >= 0.05:\n",
    "        return 'postive'\n",
    "    elif score <= - 0.05: \n",
    "        return 'negative'\n",
    "    else:\n",
    "        return 'neutral'\n",
    "\n",
    "df['vader_tag_sentiment_normal'] = df['vader_score_sentiment_normal'].apply(tag)"
   ]
  },
  {
   "cell_type": "code",
   "execution_count": 6,
   "metadata": {},
   "outputs": [
    {
     "name": "stderr",
     "output_type": "stream",
     "text": [
      "/Users/luciainesmerlo/opt/anaconda3/lib/python3.8/site-packages/seaborn/distributions.py:2551: FutureWarning: `distplot` is a deprecated function and will be removed in a future version. Please adapt your code to use either `displot` (a figure-level function with similar flexibility) or `histplot` (an axes-level function for histograms).\n",
      "  warnings.warn(msg, FutureWarning)\n",
      "/Users/luciainesmerlo/opt/anaconda3/lib/python3.8/site-packages/seaborn/distributions.py:2055: FutureWarning: The `axis` variable is no longer used and will be removed. Instead, assign variables directly to `x` or `y`.\n",
      "  warnings.warn(msg, FutureWarning)\n"
     ]
    },
    {
     "data": {
      "text/plain": [
       "<AxesSubplot:xlabel='vader_score_sentiment_normal', ylabel='Density'>"
      ]
     },
     "execution_count": 6,
     "metadata": {},
     "output_type": "execute_result"
    },
    {
     "data": {
      "image/png": "[encoded data removed]",
      "text/plain": [
       "<Figure size 432x288 with 1 Axes>"
      ]
     },
     "metadata": {
      "needs_background": "light"
     },
     "output_type": "display_data"
    }
   ],
   "source": [
    "#ax=sns.displot(data=df, x=\"vader_score_sentiment\",kind=\"kde\",fill=True)\n",
    "#ax#.set(xlim=(-0.05e16,0.05e16))\n",
    "ax = sns.distplot(df['vader_score_sentiment_normal'], rug=True\n",
    "                 )\n",
    "ax"
   ]
  },
  {
   "cell_type": "code",
   "execution_count": 25,
   "metadata": {},
   "outputs": [
    {
     "data": {
      "text/plain": [
       "<AxesSubplot:xlabel='vader_score_sentiment', ylabel='Count'>"
      ]
     },
     "execution_count": 25,
     "metadata": {},
     "output_type": "execute_result"
    },
    {
     "data": {
      "image/png": "[encoded data removed]",
      "text/plain": [
       "<Figure size 432x288 with 1 Axes>"
      ]
     },
     "metadata": {
      "needs_background": "light"
     },
     "output_type": "display_data"
    }
   ],
   "source": [
    "ax=sns.histplot(df[\"vader_score_sentiment\"],bins=50,kde=False)\n",
    "ax"
   ]
  },
  {
   "cell_type": "code",
   "execution_count": 23,
   "metadata": {},
   "outputs": [
    {
     "data": {
      "text/plain": [
       "<AxesSubplot:xlabel='vader_tag_sentiment', ylabel='count'>"
      ]
     },
     "execution_count": 23,
     "metadata": {},
     "output_type": "execute_result"
    },
    {
     "data": {
      "image/png": "[encoded data removed]",
      "text/plain": [
       "<Figure size 432x288 with 1 Axes>"
      ]
     },
     "metadata": {
      "needs_background": "light"
     },
     "output_type": "display_data"
    }
   ],
   "source": [
    "ax=sns.countplot(data=df, x=\"vader_tag_sentiment\")\n",
    "ax"
   ]
  },
  {
   "cell_type": "markdown",
   "metadata": {},
   "source": [
    "##### Emotions and sentiment scores with TextBlob \n",
    "\n",
    "\n",
    "As TextBlob is a Lexicon-based sentiment analyzer It has some predefined rules or we can say word and weight dictionary, where it has some scores that help to calculate a sentence's polarity. That's why the Lexicon-based sentiment analyzers are also called “Rule-based sentiment analyzers”.\n",
    "\n",
    "Polarity lies between [-1,1], -1 defines a negative sentiment and 1 defines a positive sentiment. Subjectivity lies between [0,1]. Subjectivity quantifies the amount of personal opinion and factual information contained in the text. The higher subjectivity means that the text contains personal opinion rather than factual information.\n",
    "TextBlob calculates subjectivity by looking at the ‘intensity’. Intensity determines if a word modifies the next word. For English, adverbs are used as modifiers (‘very good’)."
   ]
  },
  {
   "cell_type": "code",
   "execution_count": 10,
   "metadata": {},
   "outputs": [],
   "source": [
    "\"\"\"\n",
    "Polarity, in simple terms, means emotions expressed in a \n",
    "sentence – negative vs. positive\n",
    "Subjectivity expresses some personal feelings, views, or \n",
    "beliefs – objective vs. subjective\n",
    "\"\"\"\n",
    "\n",
    "#call the classifier\n",
    "def getSubjectivity(review):\n",
    "    return TextBlob(review).sentiment.subjectivity\n",
    "    # function to calculate polarity\n",
    "    \n",
    "def getPolarity(review):\n",
    "    return TextBlob(review).sentiment.polarity\n",
    "\n",
    "# function to analyze the reviews\n",
    "def analysis(score):\n",
    "    if score < 0:\n",
    "        return 'Negative'\n",
    "    elif score == 0:\n",
    "        return 'Neutral'\n",
    "    else:\n",
    "        return 'Positive'"
   ]
  },
  {
   "cell_type": "code",
   "execution_count": 11,
   "metadata": {},
   "outputs": [],
   "source": [
    "df['subjectivity_score_textblob'] = df['text'].apply(getSubjectivity) \n",
    "df['polarity_score_textblob'] = df['texto_limpio'].apply(getPolarity) \n",
    "df['tag_score_textblob'] = df['polarity_score_textblob'].apply(analysis)"
   ]
  },
  {
   "cell_type": "code",
   "execution_count": 82,
   "metadata": {},
   "outputs": [],
   "source": [
    "#ax=sns.displot(data=df, x=\"subjectivity_score_textblob\",kind=\"kde\",fill=True)\n",
    "#ax#.set(xlim=(-0.05e16,0.05e16))"
   ]
  },
  {
   "cell_type": "code",
   "execution_count": 26,
   "metadata": {},
   "outputs": [
    {
     "data": {
      "text/plain": [
       "<AxesSubplot:xlabel='subjectivity_score_textblob', ylabel='Count'>"
      ]
     },
     "execution_count": 26,
     "metadata": {},
     "output_type": "execute_result"
    },
    {
     "data": {
      "image/png": "[encoded data removed]",
      "text/plain": [
       "<Figure size 432x288 with 1 Axes>"
      ]
     },
     "metadata": {
      "needs_background": "light"
     },
     "output_type": "display_data"
    }
   ],
   "source": [
    "ax=sns.histplot(df[\"subjectivity_score_textblob\"],bins=50,kde=False)\n",
    "ax"
   ]
  },
  {
   "cell_type": "code",
   "execution_count": 83,
   "metadata": {},
   "outputs": [],
   "source": [
    "#ax=sns.displot(data=df, x=\"polarity_score_textblob\",kind=\"kde\",fill=True)\n",
    "#ax#.set(xlim=(-0.05e16,0.05e16))"
   ]
  },
  {
   "cell_type": "code",
   "execution_count": 27,
   "metadata": {},
   "outputs": [
    {
     "data": {
      "text/plain": [
       "<AxesSubplot:xlabel='polarity_score_textblob', ylabel='Count'>"
      ]
     },
     "execution_count": 27,
     "metadata": {},
     "output_type": "execute_result"
    },
    {
     "data": {
      "image/png": "[encoded data removed]",
      "text/plain": [
       "<Figure size 432x288 with 1 Axes>"
      ]
     },
     "metadata": {
      "needs_background": "light"
     },
     "output_type": "display_data"
    }
   ],
   "source": [
    "ax=sns.histplot(df[\"polarity_score_textblob\"],bins=50,kde=False)\n",
    "ax"
   ]
  },
  {
   "cell_type": "code",
   "execution_count": 27,
   "metadata": {},
   "outputs": [
    {
     "name": "stderr",
     "output_type": "stream",
     "text": [
      "/Users/luciainesmerlo/opt/anaconda3/lib/python3.8/site-packages/seaborn/_decorators.py:36: FutureWarning: Pass the following variable as a keyword arg: x. From version 0.12, the only valid positional argument will be `data`, and passing other arguments without an explicit keyword will result in an error or misinterpretation.\n",
      "  warnings.warn(\n"
     ]
    },
    {
     "data": {
      "text/plain": [
       "<AxesSubplot:xlabel='tag_score_textblob', ylabel='count'>"
      ]
     },
     "execution_count": 27,
     "metadata": {},
     "output_type": "execute_result"
    },
    {
     "data": {
      "image/png": "[encoded data removed]",
      "text/plain": [
       "<Figure size 432x288 with 1 Axes>"
      ]
     },
     "metadata": {
      "needs_background": "light"
     },
     "output_type": "display_data"
    }
   ],
   "source": [
    "sns.countplot(df['tag_score_textblob'])"
   ]
  },
  {
   "cell_type": "code",
   "execution_count": 12,
   "metadata": {},
   "outputs": [],
   "source": [
    "import os\n",
    "df.to_excel('/Users/luciainesmerlo/Desktop/TFG/HaHackaton2020/LABELEDdatos_features.xlsx')\n",
    "#df.to_csv('/Users/luciainesmerlo/Desktop/TFG/HaHackaton2020/datos_train.csv', sep=',')"
   ]
  },
  {
   "cell_type": "code",
   "execution_count": null,
   "metadata": {},
   "outputs": [],
   "source": []
  },
  {
   "cell_type": "code",
   "execution_count": null,
   "metadata": {},
   "outputs": [],
   "source": []
  },
  {
   "cell_type": "code",
   "execution_count": null,
   "metadata": {},
   "outputs": [],
   "source": []
  },
  {
   "cell_type": "code",
   "execution_count": null,
   "metadata": {},
   "outputs": [],
   "source": []
  }
 ],
 "metadata": {
  "kernelspec": {
   "display_name": "Python 3",
   "language": "python",
   "name": "python3"
  },
  "language_info": {
   "codemirror_mode": {
    "name": "ipython",
    "version": 3
   },
   "file_extension": ".py",
   "mimetype": "text/x-python",
   "name": "python",
   "nbconvert_exporter": "python",
   "pygments_lexer": "ipython3",
   "version": "3.8.5"
  }
 },
 "nbformat": 4,
 "nbformat_minor": 4
}
