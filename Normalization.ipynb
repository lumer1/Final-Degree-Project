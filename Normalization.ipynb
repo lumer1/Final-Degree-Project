{
 "cells": [
  {
   "cell_type": "code",
   "execution_count": 1,
   "metadata": {},
   "outputs": [],
   "source": [
    "import pandas as pd\n",
    "\n",
    "df = pd.read_excel('datos_features.xlsx')"
   ]
  },
  {
   "cell_type": "code",
   "execution_count": 6,
   "metadata": {},
   "outputs": [
    {
     "data": {
      "text/plain": [
       "0    0.055556\n",
       "1    0.000000\n",
       "2    0.000000\n",
       "3    0.000000\n",
       "4    0.000000\n",
       "5    0.071429\n",
       "6    0.000000\n",
       "7    0.000000\n",
       "8    0.000000\n",
       "9    0.000000\n",
       "Name: abusive_scores_binary, dtype: float64"
      ]
     },
     "execution_count": 6,
     "metadata": {},
     "output_type": "execute_result"
    }
   ],
   "source": [
    "df['abusive_scores_binary'][0:10]"
   ]
  },
  {
   "cell_type": "markdown",
   "metadata": {},
   "source": [
    "###### Divido por nPals las variables de frecuencias"
   ]
  },
  {
   "cell_type": "code",
   "execution_count": 9,
   "metadata": {},
   "outputs": [
    {
     "data": {
      "text/plain": [
       "array([[18],\n",
       "       [31],\n",
       "       [26],\n",
       "       ...,\n",
       "       [14],\n",
       "       [20],\n",
       "       [16]], dtype=object)"
      ]
     },
     "execution_count": 9,
     "metadata": {},
     "output_type": "execute_result"
    }
   ],
   "source": [
    "a = df.values\n",
    "\n",
    "a[:,146,None] #numero pals\n",
    "\n",
    "#a[:,25:146]\n",
    "a[:,24:146] #features a normalizar"
   ]
  },
  {
   "cell_type": "code",
   "execution_count": 15,
   "metadata": {},
   "outputs": [],
   "source": [
    "df.iloc[:,24:146] = a[:,24:146]/a[:,146,None]"
   ]
  },
  {
   "cell_type": "code",
   "execution_count": 3,
   "metadata": {},
   "outputs": [
    {
     "data": {
      "text/plain": [
       "['id',\n",
       " 'text',\n",
       " 'is_humor',\n",
       " 'humor_rating',\n",
       " 'humor_controversy',\n",
       " 'offense_rating',\n",
       " 'offenseRatingTag',\n",
       " 'texto_limpio',\n",
       " 'sentimiento_stanza',\n",
       " 'polaridad_media_sentic',\n",
       " 'sentiwordnet_score',\n",
       " 'sentiwordnet_overall_Sentiment',\n",
       " 'afinn_lexicon_score',\n",
       " 'afinn_score',\n",
       " 'afinn_score_tag',\n",
       " 'vader_score_sentiment',\n",
       " 'vader_tag_sentiment',\n",
       " 'polarity_score_textblob',\n",
       " 'tag_score_textblob',\n",
       " 'subjectivity_score_textblob',\n",
       " 'sentiment_anew',\n",
       " 'arousal_anew',\n",
       " 'dominance_anew',\n",
       " 'label_anew',\n",
       " 'abusive_scores',\n",
       " 'abusive_scores_binary',\n",
       " 'anger_frequency_EmoSenticNet',\n",
       " 'disgust_frequency_EmoSenticNet',\n",
       " 'fear_frequency_EmoSenticNet',\n",
       " 'joy_frequency_EmoSenticNet',\n",
       " 'sad_frequency_EmoSenticNet',\n",
       " 'surprise_frequency_EmoSenticNet',\n",
       " 'anger_frequency_SentiSense',\n",
       " 'anticipation_frequency_SentiSense',\n",
       " 'disgust_frequency_SentiSense',\n",
       " 'fear_frequency_SentiSense',\n",
       " 'joy_frequency_SentiSense',\n",
       " 'like_frequency_SentiSense',\n",
       " 'love_frequency_SentiSense',\n",
       " 'sadness_frequency_SentiSense',\n",
       " 'surprise_frequency_SentiSense',\n",
       " 'PsicoLIWCachieve',\n",
       " 'PsicoLIWCadverb',\n",
       " 'PsicoLIWCaffect',\n",
       " 'PsicoLIWCanger',\n",
       " 'PsicoLIWCanx',\n",
       " 'PsicoLIWCarticle',\n",
       " 'PsicoLIWCassent',\n",
       " 'PsicoLIWCauxverb',\n",
       " 'PsicoLIWCbio',\n",
       " 'PsicoLIWCbody',\n",
       " 'PsicoLIWCcause',\n",
       " 'PsicoLIWCcertain',\n",
       " 'PsicoLIWCcogmech',\n",
       " 'PsicoLIWCconj',\n",
       " 'PsicoLIWCdeath',\n",
       " 'PsicoLIWCdiscrep',\n",
       " 'PsicoLIWCexcl',\n",
       " 'PsicoLIWCfamily',\n",
       " 'PsicoLIWCfeel',\n",
       " 'PsicoLIWCfiller',\n",
       " 'PsicoLIWCfriend',\n",
       " 'PsicoLIWCfunct',\n",
       " 'PsicoLIWCfuture',\n",
       " 'PsicoLIWChealth',\n",
       " 'PsicoLIWChear',\n",
       " 'PsicoLIWChome',\n",
       " 'PsicoLIWChumans',\n",
       " 'PsicoLIWCi',\n",
       " 'PsicoLIWCincl',\n",
       " 'PsicoLIWCingest',\n",
       " 'PsicoLIWCinhib',\n",
       " 'PsicoLIWCinsight',\n",
       " 'PsicoLIWCipron',\n",
       " 'PsicoLIWCleisure',\n",
       " 'PsicoLIWCmoney',\n",
       " 'PsicoLIWCmotion',\n",
       " 'PsicoLIWCnegate',\n",
       " 'PsicoLIWCnegemo',\n",
       " 'PsicoLIWCnonfl',\n",
       " 'PsicoLIWCnumber',\n",
       " 'PsicoLIWCpast',\n",
       " 'PsicoLIWCpercept',\n",
       " 'PsicoLIWCposemo',\n",
       " 'PsicoLIWCppron',\n",
       " 'PsicoLIWCpreps',\n",
       " 'PsicoLIWCpresent',\n",
       " 'PsicoLIWCpronoun',\n",
       " 'PsicoLIWCquant',\n",
       " 'PsicoLIWCrelativ',\n",
       " 'PsicoLIWCrelig',\n",
       " 'PsicoLIWCsad',\n",
       " 'PsicoLIWCsee',\n",
       " 'PsicoLIWCsexual',\n",
       " 'PsicoLIWCshehe',\n",
       " 'PsicoLIWCsocial',\n",
       " 'PsicoLIWCspace',\n",
       " 'PsicoLIWCswear',\n",
       " 'PsicoLIWCtentat',\n",
       " 'PsicoLIWCthey',\n",
       " 'PsicoLIWCtime',\n",
       " 'PsicoLIWCverb',\n",
       " 'PsicoLIWCwe',\n",
       " 'PsicoLIWCwork',\n",
       " 'PsicoLIWCyou',\n",
       " 'national_groups',\n",
       " 'Ilness/heath_groups',\n",
       " 'Age_groups',\n",
       " 'Victims',\n",
       " 'Political_group',\n",
       " 'Ethinc',\n",
       " 'Inmigration',\n",
       " 'Professional_and_class_groups',\n",
       " 'Sexual_Categories',\n",
       " 'Women',\n",
       " 'Physical_appearance',\n",
       " 'Religion',\n",
       " 'Style_of_life',\n",
       " 'Non_normative',\n",
       " 'noun_frequency',\n",
       " 'pronoun_frequency',\n",
       " 'adverbs_frequency',\n",
       " 'adjective_frequency',\n",
       " 'punctuation_symbols_stanza_tagger',\n",
       " 'primera_plural_stanza',\n",
       " 'segunda_plural_stanza',\n",
       " 'tercera_plural_stanza',\n",
       " 'primera_singular_stanza',\n",
       " 'segunda_singular_stanza',\n",
       " 'tercera_singular_stanza',\n",
       " 'Hurtlex-negative-stereotypes-ethnic-slurs',\n",
       " 'Hurtlex-locations-and-demonyms',\n",
       " 'Hurtlex-professions-and-occupations',\n",
       " 'Hurtlex-physical-disabilities-and-diversity',\n",
       " 'Hurtlex-cognitive disabilities-and-diversity',\n",
       " 'Hurtlex-moral-and-behavioral-defects',\n",
       " 'Hurtlex-words-social-economic-disadvantage',\n",
       " 'Hurtlex-plants',\n",
       " 'Hurtlex-animals',\n",
       " 'Hurtlex-male-genitalia',\n",
       " 'Hurtlex-female-genitalia',\n",
       " 'Hurtlex-words-prostitution',\n",
       " 'Hurtlex-words-homosexuality',\n",
       " 'Hurtlex-potential-negative-connotations',\n",
       " 'Hurtlex-derogatory-words',\n",
       " 'Hurtlex-felonies-crime-immoral-behavior',\n",
       " 'Hurtlex-word-seven-deadly-sins-of-the-Christian-tradition',\n",
       " 'numeroPals',\n",
       " 'sentiment_anew_Normalized',\n",
       " 'arousal_anew_Normalized',\n",
       " 'dominance_anew_Normalized',\n",
       " 'afinn_score_Normalized',\n",
       " 'afinn_lexicon_score_Normalized',\n",
       " 'abusive_scores_Normalized',\n",
       " 'sentiwordnet_score_Normalized']"
      ]
     },
     "execution_count": 3,
     "metadata": {},
     "output_type": "execute_result"
    }
   ],
   "source": [
    "list(df.columns)"
   ]
  },
  {
   "cell_type": "markdown",
   "metadata": {},
   "source": [
    "#### Normalización"
   ]
  },
  {
   "cell_type": "code",
   "execution_count": 49,
   "metadata": {},
   "outputs": [],
   "source": [
    "### escalado min-max [0,1]\n",
    "#polaridad_media_sentic_Normalized = (df['polaridad_media_sentic'] - df['polaridad_media_sentic'].min())/ (df['polaridad_media_sentic'].max() - df['polaridad_media_sentic'].min()) \n",
    "sentiment_anew_Normalized = (df['sentiment_anew'<] - df['sentiment_anew'].min())/ (df['sentiment_anew'].max() - df['sentiment_anew'].min())\n",
    "arousal_anew_Normalized = (df['arousal_anew'] - df['arousal_anew'].min())/ (df['arousal_anew'].max() - df['arousal_anew'].min())\n",
    "dominance_anew_Normalized = (df['dominance_anew'] - df['dominance_anew'].min())/ (df['dominance_anew'].max() - df['dominance_anew'].min())\n",
    "afinn_score_Normalized = (df['afinn_score'] - df['afinn_score'].min())/ (df['afinn_score'].max() - df['afinn_score'].min())\n",
    "afinn_lexicon_score_Normalized = (df['afinn_lexicon_score'] - df['afinn_lexicon_score'].min())/ (df['afinn_lexicon_score'].max() - df['afinn_lexicon_score'].min())\n",
    "abusive_scores_Normalized = (df['abusive_scores'] - df['abusive_scores'].min())/ (df['abusive_scores'].max() - df['abusive_scores'].min())\n",
    "sentiwordnet_score_Normalized = (df['sentiwordnet_score'] - df['sentiwordnet_score'].min())/ (df['sentiwordnet_score'].max() - df['sentiwordnet_score'].min())\n",
    "\n",
    "df['sentiment_anew_Normalized'] = sentiment_anew_Normalized\n",
    "df['arousal_anew_Normalized'] = arousal_anew_Normalized\n",
    "df['dominance_anew_Normalized'] = dominance_anew_Normalized\n",
    "df['afinn_score_Normalized'] = afinn_score_Normalized\n",
    "df['afinn_lexicon_score_Normalized'] = afinn_lexicon_score_Normalized\n",
    "df['abusive_scores_Normalized'] = abusive_scores_Normalized\n",
    "df['sentiwordnet_score_Normalized'] = sentiwordnet_score_Normalized\n"
   ]
  },
  {
   "cell_type": "code",
   "execution_count": 2,
   "metadata": {},
   "outputs": [],
   "source": [
    "polaridad_media_sentic_Normalized = (df['polaridad_media_sentic'] - df['polaridad_media_sentic'].min())/ (df['polaridad_media_sentic'].max() - df['polaridad_media_sentic'].min())\n",
    "vader_score_sentiment_Normalized = (df['vader_score_sentiment'] - df['vader_score_sentiment'].min())/ (df['vader_score_sentiment'].max() - df['vader_score_sentiment'].min())\n",
    "polarity_score_textblob_Normalized = (df['polarity_score_textblob'] - df['polarity_score_textblob'].min())/ (df['polarity_score_textblob'].max() - df['polarity_score_textblob'].min())\n",
    "\n",
    "df['polaridad_media_sentic_Normalized'] = polaridad_media_sentic_Normalized\n",
    "df['vader_score_sentiment_Normalized'] = vader_score_sentiment_Normalized\n",
    "df['polarity_score_textblob_Normalized'] = polarity_score_textblob_Normalized"
   ]
  },
  {
   "cell_type": "code",
   "execution_count": 7,
   "metadata": {},
   "outputs": [
    {
     "data": {
      "text/plain": [
       "count    8000.000000\n",
       "mean        0.000726\n",
       "std         0.007442\n",
       "min         0.000000\n",
       "25%         0.000000\n",
       "50%         0.000000\n",
       "75%         0.000000\n",
       "max         0.333333\n",
       "Name: surprise_frequency_SentiSense, dtype: float64"
      ]
     },
     "execution_count": 7,
     "metadata": {},
     "output_type": "execute_result"
    }
   ],
   "source": [
    "df['surprise_frequency_SentiSense'].describe()"
   ]
  },
  {
   "cell_type": "code",
   "execution_count": 58,
   "metadata": {},
   "outputs": [
    {
     "data": {
      "text/plain": [
       "0    1\n",
       "1    1\n",
       "2    2\n",
       "3    1\n",
       "4    1\n",
       "Name: offenseRatingTag, dtype: object"
      ]
     },
     "execution_count": 58,
     "metadata": {},
     "output_type": "execute_result"
    }
   ],
   "source": [
    "#pd.cut(df['offense_rating'],bins=4)\n",
    "\n",
    "def tag(score):\n",
    "    \n",
    "    if score <= 1.212:\n",
    "        return '1'\n",
    "    elif score <= 2.425: \n",
    "        return '2'\n",
    "    elif score <= 3.637:\n",
    "        return '3'\n",
    "    else:\n",
    "        return '4'\n",
    "\n",
    "df['offenseRatingTag'] = df['offense_rating'].apply(tag)\n",
    "df['offenseRatingTag'].head()"
   ]
  },
  {
   "cell_type": "code",
   "execution_count": 4,
   "metadata": {},
   "outputs": [
    {
     "data": {
      "text/plain": [
       "count    8000.000000\n",
       "mean        0.527796\n",
       "std         0.195302\n",
       "min         0.000000\n",
       "25%         0.449058\n",
       "50%         0.504039\n",
       "75%         0.660258\n",
       "max         1.000000\n",
       "Name: polaridad_media_sentic_Normalized, dtype: float64"
      ]
     },
     "execution_count": 4,
     "metadata": {},
     "output_type": "execute_result"
    }
   ],
   "source": [
    "\n",
    "\"\"\"\n",
    "'polaridad_media_sentic',\n",
    "'vader_score_sentiment',\n",
    "'polarity_score_textblob',\n",
    "'subjectivity_score_textblob',\n",
    "\"\"\"\n",
    "df['polaridad_media_sentic_Normalized'].describe()"
   ]
  },
  {
   "cell_type": "code",
   "execution_count": 54,
   "metadata": {},
   "outputs": [
    {
     "data": {
      "text/plain": [
       "['id',\n",
       " 'text',\n",
       " 'is_humor',\n",
       " 'humor_rating',\n",
       " 'humor_controversy',\n",
       " 'offense_rating',\n",
       " 'texto_limpio',\n",
       " 'sentimiento_stanza',\n",
       " 'polaridad_media_sentic',\n",
       " 'sentiwordnet_score',\n",
       " 'sentiwordnet_overall_Sentiment',\n",
       " 'afinn_lexicon_score',\n",
       " 'afinn_score',\n",
       " 'afinn_score_tag',\n",
       " 'vader_score_sentiment',\n",
       " 'vader_tag_sentiment',\n",
       " 'polarity_score_textblob',\n",
       " 'tag_score_textblob',\n",
       " 'subjectivity_score_textblob',\n",
       " 'sentiment_anew',\n",
       " 'arousal_anew',\n",
       " 'dominance_anew',\n",
       " 'label_anew',\n",
       " 'abusive_scores',\n",
       " 'abusive_scores_binary',\n",
       " 'anger_frequency_EmoSenticNet',\n",
       " 'disgust_frequency_EmoSenticNet',\n",
       " 'fear_frequency_EmoSenticNet',\n",
       " 'joy_frequency_EmoSenticNet',\n",
       " 'sad_frequency_EmoSenticNet',\n",
       " 'surprise_frequency_EmoSenticNet',\n",
       " 'anger_frequency_SentiSense',\n",
       " 'anticipation_frequency_SentiSense',\n",
       " 'disgust_frequency_SentiSense',\n",
       " 'fear_frequency_SentiSense',\n",
       " 'joy_frequency_SentiSense',\n",
       " 'like_frequency_SentiSense',\n",
       " 'love_frequency_SentiSense',\n",
       " 'sadness_frequency_SentiSense',\n",
       " 'surprise_frequency_SentiSense',\n",
       " 'PsicoLIWCachieve',\n",
       " 'PsicoLIWCadverb',\n",
       " 'PsicoLIWCaffect',\n",
       " 'PsicoLIWCanger',\n",
       " 'PsicoLIWCanx',\n",
       " 'PsicoLIWCarticle',\n",
       " 'PsicoLIWCassent',\n",
       " 'PsicoLIWCauxverb',\n",
       " 'PsicoLIWCbio',\n",
       " 'PsicoLIWCbody',\n",
       " 'PsicoLIWCcause',\n",
       " 'PsicoLIWCcertain',\n",
       " 'PsicoLIWCcogmech',\n",
       " 'PsicoLIWCconj',\n",
       " 'PsicoLIWCdeath',\n",
       " 'PsicoLIWCdiscrep',\n",
       " 'PsicoLIWCexcl',\n",
       " 'PsicoLIWCfamily',\n",
       " 'PsicoLIWCfeel',\n",
       " 'PsicoLIWCfiller',\n",
       " 'PsicoLIWCfriend',\n",
       " 'PsicoLIWCfunct',\n",
       " 'PsicoLIWCfuture',\n",
       " 'PsicoLIWChealth',\n",
       " 'PsicoLIWChear',\n",
       " 'PsicoLIWChome',\n",
       " 'PsicoLIWChumans',\n",
       " 'PsicoLIWCi',\n",
       " 'PsicoLIWCincl',\n",
       " 'PsicoLIWCingest',\n",
       " 'PsicoLIWCinhib',\n",
       " 'PsicoLIWCinsight',\n",
       " 'PsicoLIWCipron',\n",
       " 'PsicoLIWCleisure',\n",
       " 'PsicoLIWCmoney',\n",
       " 'PsicoLIWCmotion',\n",
       " 'PsicoLIWCnegate',\n",
       " 'PsicoLIWCnegemo',\n",
       " 'PsicoLIWCnonfl',\n",
       " 'PsicoLIWCnumber',\n",
       " 'PsicoLIWCpast',\n",
       " 'PsicoLIWCpercept',\n",
       " 'PsicoLIWCposemo',\n",
       " 'PsicoLIWCppron',\n",
       " 'PsicoLIWCpreps',\n",
       " 'PsicoLIWCpresent',\n",
       " 'PsicoLIWCpronoun',\n",
       " 'PsicoLIWCquant',\n",
       " 'PsicoLIWCrelativ',\n",
       " 'PsicoLIWCrelig',\n",
       " 'PsicoLIWCsad',\n",
       " 'PsicoLIWCsee',\n",
       " 'PsicoLIWCsexual',\n",
       " 'PsicoLIWCshehe',\n",
       " 'PsicoLIWCsocial',\n",
       " 'PsicoLIWCspace',\n",
       " 'PsicoLIWCswear',\n",
       " 'PsicoLIWCtentat',\n",
       " 'PsicoLIWCthey',\n",
       " 'PsicoLIWCtime',\n",
       " 'PsicoLIWCverb',\n",
       " 'PsicoLIWCwe',\n",
       " 'PsicoLIWCwork',\n",
       " 'PsicoLIWCyou',\n",
       " 'national_groups',\n",
       " 'Ilness/heath_groups',\n",
       " 'Age_groups',\n",
       " 'Victims',\n",
       " 'Political_group',\n",
       " 'Ethinc',\n",
       " 'Inmigration',\n",
       " 'Professional_and_class_groups',\n",
       " 'Sexual_Categories',\n",
       " 'Women',\n",
       " 'Physical_appearance',\n",
       " 'Religion',\n",
       " 'Style_of_life',\n",
       " 'Non_normative',\n",
       " 'noun_frequency',\n",
       " 'pronoun_frequency',\n",
       " 'adverbs_frequency',\n",
       " 'adjective_frequency',\n",
       " 'punctuation_symbols_stanza_tagger',\n",
       " 'primera_plural_stanza',\n",
       " 'segunda_plural_stanza',\n",
       " 'tercera_plural_stanza',\n",
       " 'primera_singular_stanza',\n",
       " 'segunda_singular_stanza',\n",
       " 'tercera_singular_stanza',\n",
       " 'Hurtlex-negative-stereotypes-ethnic-slurs',\n",
       " 'Hurtlex-locations-and-demonyms',\n",
       " 'Hurtlex-professions-and-occupations',\n",
       " 'Hurtlex-physical-disabilities-and-diversity',\n",
       " 'Hurtlex-cognitive disabilities-and-diversity',\n",
       " 'Hurtlex-moral-and-behavioral-defects',\n",
       " 'Hurtlex-words-social-economic-disadvantage',\n",
       " 'Hurtlex-plants',\n",
       " 'Hurtlex-animals',\n",
       " 'Hurtlex-male-genitalia',\n",
       " 'Hurtlex-female-genitalia',\n",
       " 'Hurtlex-words-prostitution',\n",
       " 'Hurtlex-words-homosexuality',\n",
       " 'Hurtlex-potential-negative-connotations',\n",
       " 'Hurtlex-derogatory-words',\n",
       " 'Hurtlex-felonies-crime-immoral-behavior',\n",
       " 'Hurtlex-word-seven-deadly-sins-of-the-Christian-tradition',\n",
       " 'numeroPals',\n",
       " 'sentiment_anew_Normalized',\n",
       " 'arousal_anew_Normalized',\n",
       " 'dominance_anew_Normalized',\n",
       " 'afinn_score_Normalized',\n",
       " 'afinn_lexicon_score_Normalized',\n",
       " 'abusive_scores_Normalized',\n",
       " 'sentiwordnet_score_Normalized']"
      ]
     },
     "execution_count": 54,
     "metadata": {},
     "output_type": "execute_result"
    }
   ],
   "source": [
    "list(df.columns)"
   ]
  },
  {
   "cell_type": "markdown",
   "metadata": {},
   "source": [
    "##### Descripción y recodificación"
   ]
  },
  {
   "cell_type": "code",
   "execution_count": 17,
   "metadata": {},
   "outputs": [
    {
     "name": "stdout",
     "output_type": "stream",
     "text": [
      "[0 1 2] ['Positive' 'Negative' 'Neutral'] ['negative' 'positive' 'neutral'] ['negative' 'postive' 'neutral'] ['Positive' 'Neutral' 'Negative'] ['neutral' 'positive' 'negative']\n"
     ]
    }
   ],
   "source": [
    "\"\"\"print(df['sentimiento_stanza'].unique(), #[0 1 2] \n",
    "df['sentiwordnet_overall_Sentiment'].unique(),#['Positive' 'Negative' 'Neutral']\n",
    "df['afinn_score_tag'].unique(),#['negative' 'positive' 'neutral'] \n",
    "df['vader_tag_sentiment'].unique(),# ['negative' 'postive' 'neutral']\n",
    "df['tag_score_textblob'].unique(),#['Positive' 'Neutral' 'Negative']\n",
    "df['label_anew'].unique())#['neutral' 'positive' 'negative']\n",
    "\n",
    "df['afinn_score'].describe()\n",
    "\n",
    "df['afinn_lexicon_score'].describe()#[-5,5]\n",
    "\n",
    "print(df['arousal_anew'].describe(), # 1 (most negative) to 9 (most positive)\n",
    "     df['sentiment_anew'].describe(),\n",
    "     df['dominance_anew'].describe(),\n",
    "    \"\\n\",\n",
    "      df['abusive_scores'].describe(),df['abusive_scores_binary'].describe())\"\"\""
   ]
  },
  {
   "cell_type": "code",
   "execution_count": 41,
   "metadata": {},
   "outputs": [],
   "source": [
    "#df_afinn = pd.read_excel(\"/Users/luciainesmerlo/Desktop/TFG/HaHackaton2020/lexicon/AFINN/afinnLexicon.xlsx\")\n",
    "#df['abusive_scores'].describe()"
   ]
  },
  {
   "cell_type": "code",
   "execution_count": 5,
   "metadata": {},
   "outputs": [],
   "source": [
    "df.to_excel('/Users/luciainesmerlo/Desktop/TFG/HaHackaton2020/LABELEDdatos_features.xlsx')"
   ]
  },
  {
   "cell_type": "code",
   "execution_count": null,
   "metadata": {},
   "outputs": [],
   "source": []
  }
 ],
 "metadata": {
  "kernelspec": {
   "display_name": "Python 3",
   "language": "python",
   "name": "python3"
  },
  "language_info": {
   "codemirror_mode": {
    "name": "ipython",
    "version": 3
   },
   "file_extension": ".py",
   "mimetype": "text/x-python",
   "name": "python",
   "nbconvert_exporter": "python",
   "pygments_lexer": "ipython3",
   "version": "3.8.5"
  }
 },
 "nbformat": 4,
 "nbformat_minor": 4
}
